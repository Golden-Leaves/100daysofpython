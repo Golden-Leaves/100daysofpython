{
 "cells": [
  {
   "cell_type": "markdown",
   "metadata": {
    "dc": {
     "key": "4"
    },
    "id": "-Sxae4jbdiT2",
    "run_control": {
     "frozen": true
    },
    "tags": [
     "context"
    ]
   },
   "source": [
    "# Introduction\n",
    "\n",
    "In this notebook, we will do a comprehensive analysis of the Android app market by comparing thousands of apps in the Google Play store."
   ]
  },
  {
   "cell_type": "markdown",
   "metadata": {
    "id": "sDT5lMxadiT3"
   },
   "source": [
    "# About the Dataset of Google Play Store Apps & Reviews"
   ]
  },
  {
   "cell_type": "markdown",
   "metadata": {
    "id": "5CiydsdNdiT3"
   },
   "source": [
    "**Data Source:** <br>\n",
    "App and review data was scraped from the Google Play Store by Lavanya Gupta in 2018. Original files listed [here](\n",
    "https://www.kaggle.com/lava18/google-play-store-apps)."
   ]
  },
  {
   "cell_type": "markdown",
   "metadata": {
    "id": "BBKBNy4UdiT4"
   },
   "source": [
    "# Import Statements"
   ]
  },
  {
   "cell_type": "code",
   "execution_count": 128,
   "metadata": {
    "executionInfo": {
     "elapsed": 594,
     "status": "ok",
     "timestamp": 1602234478794,
     "user": {
      "displayName": "Philipp Muellauer",
      "photoUrl": "https://lh3.googleusercontent.com/a-/AOh14GjjWitgsmZ0M9Wmzf-SRYD005WcMGhejWWHMUiZnFw=s64",
      "userId": "02749974243016517270"
     },
     "user_tz": -60
    },
    "id": "_5mfFH4_diT4"
   },
   "outputs": [],
   "source": [
    "import pandas as pd\n",
    "import plotly.express as px"
   ]
  },
  {
   "cell_type": "markdown",
   "metadata": {
    "id": "KegC9nPDdiT7"
   },
   "source": [
    "# Notebook Presentation"
   ]
  },
  {
   "cell_type": "code",
   "execution_count": 129,
   "metadata": {
    "id": "WPL7rhJndiT7"
   },
   "outputs": [],
   "source": [
    "# Show numeric output in decimal format e.g., 2.15\n",
    "pd.options.display.float_format = '{:,.2f}'.format"
   ]
  },
  {
   "cell_type": "markdown",
   "metadata": {
    "id": "Uc9LOZu9diT-"
   },
   "source": [
    "# Read the Dataset"
   ]
  },
  {
   "cell_type": "code",
   "execution_count": 130,
   "metadata": {
    "colab": {
     "base_uri": "https://localhost:8080/",
     "height": 375
    },
    "executionInfo": {
     "elapsed": 441,
     "status": "error",
     "timestamp": 1602234486357,
     "user": {
      "displayName": "Philipp Muellauer",
      "photoUrl": "https://lh3.googleusercontent.com/a-/AOh14GjjWitgsmZ0M9Wmzf-SRYD005WcMGhejWWHMUiZnFw=s64",
      "userId": "02749974243016517270"
     },
     "user_tz": -60
    },
    "id": "zU0Zisv_diT-",
    "outputId": "f88a917e-30a1-45a4-b17a-ab21e557913c"
   },
   "outputs": [
    {
     "data": {
      "text/html": [
       "<div>\n",
       "<style scoped>\n",
       "    .dataframe tbody tr th:only-of-type {\n",
       "        vertical-align: middle;\n",
       "    }\n",
       "\n",
       "    .dataframe tbody tr th {\n",
       "        vertical-align: top;\n",
       "    }\n",
       "\n",
       "    .dataframe thead th {\n",
       "        text-align: right;\n",
       "    }\n",
       "</style>\n",
       "<table border=\"1\" class=\"dataframe\">\n",
       "  <thead>\n",
       "    <tr style=\"text-align: right;\">\n",
       "      <th></th>\n",
       "      <th>App</th>\n",
       "      <th>Category</th>\n",
       "      <th>Rating</th>\n",
       "      <th>Reviews</th>\n",
       "      <th>Size_MBs</th>\n",
       "      <th>Installs</th>\n",
       "      <th>Type</th>\n",
       "      <th>Price</th>\n",
       "      <th>Content_Rating</th>\n",
       "      <th>Genres</th>\n",
       "      <th>Last_Updated</th>\n",
       "      <th>Android_Ver</th>\n",
       "    </tr>\n",
       "  </thead>\n",
       "  <tbody>\n",
       "    <tr>\n",
       "      <th>3844</th>\n",
       "      <td>DW Spectrum™ IPVMS Mobile</td>\n",
       "      <td>BUSINESS</td>\n",
       "      <td>4.00</td>\n",
       "      <td>44</td>\n",
       "      <td>30.00</td>\n",
       "      <td>10,000</td>\n",
       "      <td>Free</td>\n",
       "      <td>0</td>\n",
       "      <td>Everyone</td>\n",
       "      <td>Business</td>\n",
       "      <td>June 19, 2018</td>\n",
       "      <td>4.1 and up</td>\n",
       "    </tr>\n",
       "    <tr>\n",
       "      <th>3282</th>\n",
       "      <td>A. O. Smith</td>\n",
       "      <td>TOOLS</td>\n",
       "      <td>4.20</td>\n",
       "      <td>32</td>\n",
       "      <td>33.00</td>\n",
       "      <td>10,000</td>\n",
       "      <td>Free</td>\n",
       "      <td>0</td>\n",
       "      <td>Everyone</td>\n",
       "      <td>Tools</td>\n",
       "      <td>May 21, 2018</td>\n",
       "      <td>4.0 and up</td>\n",
       "    </tr>\n",
       "    <tr>\n",
       "      <th>9891</th>\n",
       "      <td>Meme Generator Free</td>\n",
       "      <td>FAMILY</td>\n",
       "      <td>4.40</td>\n",
       "      <td>303394</td>\n",
       "      <td>53.00</td>\n",
       "      <td>10,000,000</td>\n",
       "      <td>Free</td>\n",
       "      <td>0</td>\n",
       "      <td>Mature 17+</td>\n",
       "      <td>Entertainment</td>\n",
       "      <td>August 3, 2018</td>\n",
       "      <td>4.1 and up</td>\n",
       "    </tr>\n",
       "    <tr>\n",
       "      <th>1337</th>\n",
       "      <td>EF Jumper</td>\n",
       "      <td>GAME</td>\n",
       "      <td>NaN</td>\n",
       "      <td>4</td>\n",
       "      <td>5.10</td>\n",
       "      <td>100</td>\n",
       "      <td>Free</td>\n",
       "      <td>0</td>\n",
       "      <td>Everyone</td>\n",
       "      <td>Arcade</td>\n",
       "      <td>July 13, 2017</td>\n",
       "      <td>2.2 - 7.1.1</td>\n",
       "    </tr>\n",
       "    <tr>\n",
       "      <th>6081</th>\n",
       "      <td>Family GPS Tracker and Chat + Baby Monitor Online</td>\n",
       "      <td>PARENTING</td>\n",
       "      <td>4.40</td>\n",
       "      <td>9073</td>\n",
       "      <td>10.05</td>\n",
       "      <td>500,000</td>\n",
       "      <td>Free</td>\n",
       "      <td>0</td>\n",
       "      <td>Everyone</td>\n",
       "      <td>Parenting</td>\n",
       "      <td>August 2, 2018</td>\n",
       "      <td>4.2 and up</td>\n",
       "    </tr>\n",
       "  </tbody>\n",
       "</table>\n",
       "</div>"
      ],
      "text/plain": [
       "                                                    App   Category  Rating  \\\n",
       "3844                          DW Spectrum™ IPVMS Mobile   BUSINESS    4.00   \n",
       "3282                                        A. O. Smith      TOOLS    4.20   \n",
       "9891                                Meme Generator Free     FAMILY    4.40   \n",
       "1337                                          EF Jumper       GAME     NaN   \n",
       "6081  Family GPS Tracker and Chat + Baby Monitor Online  PARENTING    4.40   \n",
       "\n",
       "      Reviews  Size_MBs    Installs  Type Price Content_Rating         Genres  \\\n",
       "3844       44     30.00      10,000  Free     0       Everyone       Business   \n",
       "3282       32     33.00      10,000  Free     0       Everyone          Tools   \n",
       "9891   303394     53.00  10,000,000  Free     0     Mature 17+  Entertainment   \n",
       "1337        4      5.10         100  Free     0       Everyone         Arcade   \n",
       "6081     9073     10.05     500,000  Free     0       Everyone      Parenting   \n",
       "\n",
       "        Last_Updated  Android_Ver  \n",
       "3844   June 19, 2018   4.1 and up  \n",
       "3282    May 21, 2018   4.0 and up  \n",
       "9891  August 3, 2018   4.1 and up  \n",
       "1337   July 13, 2017  2.2 - 7.1.1  \n",
       "6081  August 2, 2018   4.2 and up  "
      ]
     },
     "execution_count": 130,
     "metadata": {},
     "output_type": "execute_result"
    }
   ],
   "source": [
    "df_apps = pd.read_csv('apps.csv')\n",
    "df_apps.shape\n",
    "df_apps.columns\n",
    "df_apps.describe()\n",
    "df_apps.sample(n=5)"
   ]
  },
  {
   "cell_type": "markdown",
   "metadata": {
    "id": "iKvSUwQldiUA"
   },
   "source": [
    "# Data Cleaning"
   ]
  },
  {
   "cell_type": "markdown",
   "metadata": {
    "id": "MWTzYZIds5L9"
   },
   "source": [
    "**Challenge**: How many rows and columns does `df_apps` have? What are the column names? Look at a random sample of 5 different rows with [.sample()](https://pandas.pydata.org/pandas-docs/stable/reference/api/pandas.DataFrame.sample.html)."
   ]
  },
  {
   "cell_type": "code",
   "execution_count": null,
   "metadata": {
    "id": "HJI7UsPrnuRf"
   },
   "outputs": [],
   "source": []
  },
  {
   "cell_type": "code",
   "execution_count": null,
   "metadata": {
    "id": "fKXFjPkmnuYA"
   },
   "outputs": [],
   "source": []
  },
  {
   "cell_type": "code",
   "execution_count": null,
   "metadata": {
    "id": "MUluaHF5nueH"
   },
   "outputs": [],
   "source": []
  },
  {
   "cell_type": "markdown",
   "metadata": {
    "id": "Hh81sMcvdiUI"
   },
   "source": [
    "### Drop Unused Columns\n",
    "\n",
    "**Challenge**: Remove the columns called `Last_Updated` and `Android_Version` from the DataFrame. We will not use these columns. "
   ]
  },
  {
   "cell_type": "code",
   "execution_count": 131,
   "metadata": {
    "id": "t7EMSKAOnyzI"
   },
   "outputs": [
    {
     "data": {
      "text/html": [
       "<div>\n",
       "<style scoped>\n",
       "    .dataframe tbody tr th:only-of-type {\n",
       "        vertical-align: middle;\n",
       "    }\n",
       "\n",
       "    .dataframe tbody tr th {\n",
       "        vertical-align: top;\n",
       "    }\n",
       "\n",
       "    .dataframe thead th {\n",
       "        text-align: right;\n",
       "    }\n",
       "</style>\n",
       "<table border=\"1\" class=\"dataframe\">\n",
       "  <thead>\n",
       "    <tr style=\"text-align: right;\">\n",
       "      <th></th>\n",
       "      <th>App</th>\n",
       "      <th>Category</th>\n",
       "      <th>Rating</th>\n",
       "      <th>Reviews</th>\n",
       "      <th>Size_MBs</th>\n",
       "      <th>Installs</th>\n",
       "      <th>Type</th>\n",
       "      <th>Price</th>\n",
       "      <th>Content_Rating</th>\n",
       "      <th>Genres</th>\n",
       "    </tr>\n",
       "  </thead>\n",
       "  <tbody>\n",
       "    <tr>\n",
       "      <th>0</th>\n",
       "      <td>Ak Parti Yardım Toplama</td>\n",
       "      <td>SOCIAL</td>\n",
       "      <td>NaN</td>\n",
       "      <td>0</td>\n",
       "      <td>8.70</td>\n",
       "      <td>0</td>\n",
       "      <td>Paid</td>\n",
       "      <td>$13.99</td>\n",
       "      <td>Teen</td>\n",
       "      <td>Social</td>\n",
       "    </tr>\n",
       "    <tr>\n",
       "      <th>1</th>\n",
       "      <td>Ain Arabic Kids Alif Ba ta</td>\n",
       "      <td>FAMILY</td>\n",
       "      <td>NaN</td>\n",
       "      <td>0</td>\n",
       "      <td>33.00</td>\n",
       "      <td>0</td>\n",
       "      <td>Paid</td>\n",
       "      <td>$2.99</td>\n",
       "      <td>Everyone</td>\n",
       "      <td>Education</td>\n",
       "    </tr>\n",
       "    <tr>\n",
       "      <th>2</th>\n",
       "      <td>Popsicle Launcher for Android P 9.0 launcher</td>\n",
       "      <td>PERSONALIZATION</td>\n",
       "      <td>NaN</td>\n",
       "      <td>0</td>\n",
       "      <td>5.50</td>\n",
       "      <td>0</td>\n",
       "      <td>Paid</td>\n",
       "      <td>$1.49</td>\n",
       "      <td>Everyone</td>\n",
       "      <td>Personalization</td>\n",
       "    </tr>\n",
       "    <tr>\n",
       "      <th>3</th>\n",
       "      <td>Command &amp; Conquer: Rivals</td>\n",
       "      <td>FAMILY</td>\n",
       "      <td>NaN</td>\n",
       "      <td>0</td>\n",
       "      <td>19.00</td>\n",
       "      <td>0</td>\n",
       "      <td>NaN</td>\n",
       "      <td>0</td>\n",
       "      <td>Everyone 10+</td>\n",
       "      <td>Strategy</td>\n",
       "    </tr>\n",
       "    <tr>\n",
       "      <th>4</th>\n",
       "      <td>CX Network</td>\n",
       "      <td>BUSINESS</td>\n",
       "      <td>NaN</td>\n",
       "      <td>0</td>\n",
       "      <td>10.00</td>\n",
       "      <td>0</td>\n",
       "      <td>Free</td>\n",
       "      <td>0</td>\n",
       "      <td>Everyone</td>\n",
       "      <td>Business</td>\n",
       "    </tr>\n",
       "    <tr>\n",
       "      <th>...</th>\n",
       "      <td>...</td>\n",
       "      <td>...</td>\n",
       "      <td>...</td>\n",
       "      <td>...</td>\n",
       "      <td>...</td>\n",
       "      <td>...</td>\n",
       "      <td>...</td>\n",
       "      <td>...</td>\n",
       "      <td>...</td>\n",
       "      <td>...</td>\n",
       "    </tr>\n",
       "    <tr>\n",
       "      <th>10836</th>\n",
       "      <td>Subway Surfers</td>\n",
       "      <td>GAME</td>\n",
       "      <td>4.50</td>\n",
       "      <td>27723193</td>\n",
       "      <td>76.00</td>\n",
       "      <td>1,000,000,000</td>\n",
       "      <td>Free</td>\n",
       "      <td>0</td>\n",
       "      <td>Everyone 10+</td>\n",
       "      <td>Arcade</td>\n",
       "    </tr>\n",
       "    <tr>\n",
       "      <th>10837</th>\n",
       "      <td>Subway Surfers</td>\n",
       "      <td>GAME</td>\n",
       "      <td>4.50</td>\n",
       "      <td>27724094</td>\n",
       "      <td>76.00</td>\n",
       "      <td>1,000,000,000</td>\n",
       "      <td>Free</td>\n",
       "      <td>0</td>\n",
       "      <td>Everyone 10+</td>\n",
       "      <td>Arcade</td>\n",
       "    </tr>\n",
       "    <tr>\n",
       "      <th>10838</th>\n",
       "      <td>Subway Surfers</td>\n",
       "      <td>GAME</td>\n",
       "      <td>4.50</td>\n",
       "      <td>27725352</td>\n",
       "      <td>76.00</td>\n",
       "      <td>1,000,000,000</td>\n",
       "      <td>Free</td>\n",
       "      <td>0</td>\n",
       "      <td>Everyone 10+</td>\n",
       "      <td>Arcade</td>\n",
       "    </tr>\n",
       "    <tr>\n",
       "      <th>10839</th>\n",
       "      <td>Subway Surfers</td>\n",
       "      <td>GAME</td>\n",
       "      <td>4.50</td>\n",
       "      <td>27725352</td>\n",
       "      <td>76.00</td>\n",
       "      <td>1,000,000,000</td>\n",
       "      <td>Free</td>\n",
       "      <td>0</td>\n",
       "      <td>Everyone 10+</td>\n",
       "      <td>Arcade</td>\n",
       "    </tr>\n",
       "    <tr>\n",
       "      <th>10840</th>\n",
       "      <td>Subway Surfers</td>\n",
       "      <td>GAME</td>\n",
       "      <td>4.50</td>\n",
       "      <td>27711703</td>\n",
       "      <td>76.00</td>\n",
       "      <td>1,000,000,000</td>\n",
       "      <td>Free</td>\n",
       "      <td>0</td>\n",
       "      <td>Everyone 10+</td>\n",
       "      <td>Arcade</td>\n",
       "    </tr>\n",
       "  </tbody>\n",
       "</table>\n",
       "<p>10841 rows × 10 columns</p>\n",
       "</div>"
      ],
      "text/plain": [
       "                                                App         Category  Rating  \\\n",
       "0                           Ak Parti Yardım Toplama           SOCIAL     NaN   \n",
       "1                        Ain Arabic Kids Alif Ba ta           FAMILY     NaN   \n",
       "2      Popsicle Launcher for Android P 9.0 launcher  PERSONALIZATION     NaN   \n",
       "3                         Command & Conquer: Rivals           FAMILY     NaN   \n",
       "4                                        CX Network         BUSINESS     NaN   \n",
       "...                                             ...              ...     ...   \n",
       "10836                                Subway Surfers             GAME    4.50   \n",
       "10837                                Subway Surfers             GAME    4.50   \n",
       "10838                                Subway Surfers             GAME    4.50   \n",
       "10839                                Subway Surfers             GAME    4.50   \n",
       "10840                                Subway Surfers             GAME    4.50   \n",
       "\n",
       "        Reviews  Size_MBs       Installs  Type   Price Content_Rating  \\\n",
       "0             0      8.70              0  Paid  $13.99           Teen   \n",
       "1             0     33.00              0  Paid   $2.99       Everyone   \n",
       "2             0      5.50              0  Paid   $1.49       Everyone   \n",
       "3             0     19.00              0   NaN       0   Everyone 10+   \n",
       "4             0     10.00              0  Free       0       Everyone   \n",
       "...         ...       ...            ...   ...     ...            ...   \n",
       "10836  27723193     76.00  1,000,000,000  Free       0   Everyone 10+   \n",
       "10837  27724094     76.00  1,000,000,000  Free       0   Everyone 10+   \n",
       "10838  27725352     76.00  1,000,000,000  Free       0   Everyone 10+   \n",
       "10839  27725352     76.00  1,000,000,000  Free       0   Everyone 10+   \n",
       "10840  27711703     76.00  1,000,000,000  Free       0   Everyone 10+   \n",
       "\n",
       "                Genres  \n",
       "0               Social  \n",
       "1            Education  \n",
       "2      Personalization  \n",
       "3             Strategy  \n",
       "4             Business  \n",
       "...                ...  \n",
       "10836           Arcade  \n",
       "10837           Arcade  \n",
       "10838           Arcade  \n",
       "10839           Arcade  \n",
       "10840           Arcade  \n",
       "\n",
       "[10841 rows x 10 columns]"
      ]
     },
     "execution_count": 131,
     "metadata": {},
     "output_type": "execute_result"
    }
   ],
   "source": [
    "df_apps.drop(labels=[\"Last_Updated\",\"Android_Ver\"],axis=1) #axis 0 for row-based removal, 1 for column-based"
   ]
  },
  {
   "cell_type": "markdown",
   "metadata": {
    "id": "YQGe1DIKdiUM"
   },
   "source": [
    "### Find and Remove NaN values in Ratings\n",
    "\n",
    "**Challenge**: How may rows have a NaN value (not-a-number) in the Ratings column? Create DataFrame called `df_apps_clean` that does not include these rows. "
   ]
  },
  {
   "cell_type": "code",
   "execution_count": 132,
   "metadata": {
    "id": "grcP1IOZn1Wv"
   },
   "outputs": [
    {
     "data": {
      "text/html": [
       "<div>\n",
       "<style scoped>\n",
       "    .dataframe tbody tr th:only-of-type {\n",
       "        vertical-align: middle;\n",
       "    }\n",
       "\n",
       "    .dataframe tbody tr th {\n",
       "        vertical-align: top;\n",
       "    }\n",
       "\n",
       "    .dataframe thead th {\n",
       "        text-align: right;\n",
       "    }\n",
       "</style>\n",
       "<table border=\"1\" class=\"dataframe\">\n",
       "  <thead>\n",
       "    <tr style=\"text-align: right;\">\n",
       "      <th></th>\n",
       "      <th>App</th>\n",
       "      <th>Category</th>\n",
       "      <th>Rating</th>\n",
       "      <th>Reviews</th>\n",
       "      <th>Size_MBs</th>\n",
       "      <th>Installs</th>\n",
       "      <th>Type</th>\n",
       "      <th>Price</th>\n",
       "      <th>Content_Rating</th>\n",
       "      <th>Genres</th>\n",
       "      <th>Last_Updated</th>\n",
       "      <th>Android_Ver</th>\n",
       "    </tr>\n",
       "  </thead>\n",
       "  <tbody>\n",
       "    <tr>\n",
       "      <th>21</th>\n",
       "      <td>KBA-EZ Health Guide</td>\n",
       "      <td>MEDICAL</td>\n",
       "      <td>5.00</td>\n",
       "      <td>4</td>\n",
       "      <td>25.00</td>\n",
       "      <td>1</td>\n",
       "      <td>Free</td>\n",
       "      <td>0</td>\n",
       "      <td>Everyone</td>\n",
       "      <td>Medical</td>\n",
       "      <td>August 2, 2018</td>\n",
       "      <td>4.0.3 and up</td>\n",
       "    </tr>\n",
       "    <tr>\n",
       "      <th>28</th>\n",
       "      <td>Ra Ga Ba</td>\n",
       "      <td>GAME</td>\n",
       "      <td>5.00</td>\n",
       "      <td>2</td>\n",
       "      <td>20.00</td>\n",
       "      <td>1</td>\n",
       "      <td>Paid</td>\n",
       "      <td>$1.49</td>\n",
       "      <td>Everyone</td>\n",
       "      <td>Arcade</td>\n",
       "      <td>February 8, 2017</td>\n",
       "      <td>2.3 and up</td>\n",
       "    </tr>\n",
       "    <tr>\n",
       "      <th>47</th>\n",
       "      <td>Mu.F.O.</td>\n",
       "      <td>GAME</td>\n",
       "      <td>5.00</td>\n",
       "      <td>2</td>\n",
       "      <td>16.00</td>\n",
       "      <td>1</td>\n",
       "      <td>Paid</td>\n",
       "      <td>$0.99</td>\n",
       "      <td>Everyone</td>\n",
       "      <td>Arcade</td>\n",
       "      <td>March 3, 2017</td>\n",
       "      <td>2.3 and up</td>\n",
       "    </tr>\n",
       "    <tr>\n",
       "      <th>82</th>\n",
       "      <td>Brick Breaker BR</td>\n",
       "      <td>GAME</td>\n",
       "      <td>5.00</td>\n",
       "      <td>7</td>\n",
       "      <td>19.00</td>\n",
       "      <td>5</td>\n",
       "      <td>Free</td>\n",
       "      <td>0</td>\n",
       "      <td>Everyone</td>\n",
       "      <td>Arcade</td>\n",
       "      <td>July 23, 2018</td>\n",
       "      <td>4.1 and up</td>\n",
       "    </tr>\n",
       "    <tr>\n",
       "      <th>99</th>\n",
       "      <td>Anatomy &amp; Physiology Vocabulary Exam Review App</td>\n",
       "      <td>MEDICAL</td>\n",
       "      <td>5.00</td>\n",
       "      <td>1</td>\n",
       "      <td>4.60</td>\n",
       "      <td>5</td>\n",
       "      <td>Free</td>\n",
       "      <td>0</td>\n",
       "      <td>Everyone</td>\n",
       "      <td>Medical</td>\n",
       "      <td>August 2, 2018</td>\n",
       "      <td>4.0 and up</td>\n",
       "    </tr>\n",
       "    <tr>\n",
       "      <th>...</th>\n",
       "      <td>...</td>\n",
       "      <td>...</td>\n",
       "      <td>...</td>\n",
       "      <td>...</td>\n",
       "      <td>...</td>\n",
       "      <td>...</td>\n",
       "      <td>...</td>\n",
       "      <td>...</td>\n",
       "      <td>...</td>\n",
       "      <td>...</td>\n",
       "      <td>...</td>\n",
       "      <td>...</td>\n",
       "    </tr>\n",
       "    <tr>\n",
       "      <th>10836</th>\n",
       "      <td>Subway Surfers</td>\n",
       "      <td>GAME</td>\n",
       "      <td>4.50</td>\n",
       "      <td>27723193</td>\n",
       "      <td>76.00</td>\n",
       "      <td>1,000,000,000</td>\n",
       "      <td>Free</td>\n",
       "      <td>0</td>\n",
       "      <td>Everyone 10+</td>\n",
       "      <td>Arcade</td>\n",
       "      <td>July 12, 2018</td>\n",
       "      <td>4.1 and up</td>\n",
       "    </tr>\n",
       "    <tr>\n",
       "      <th>10837</th>\n",
       "      <td>Subway Surfers</td>\n",
       "      <td>GAME</td>\n",
       "      <td>4.50</td>\n",
       "      <td>27724094</td>\n",
       "      <td>76.00</td>\n",
       "      <td>1,000,000,000</td>\n",
       "      <td>Free</td>\n",
       "      <td>0</td>\n",
       "      <td>Everyone 10+</td>\n",
       "      <td>Arcade</td>\n",
       "      <td>July 12, 2018</td>\n",
       "      <td>4.1 and up</td>\n",
       "    </tr>\n",
       "    <tr>\n",
       "      <th>10838</th>\n",
       "      <td>Subway Surfers</td>\n",
       "      <td>GAME</td>\n",
       "      <td>4.50</td>\n",
       "      <td>27725352</td>\n",
       "      <td>76.00</td>\n",
       "      <td>1,000,000,000</td>\n",
       "      <td>Free</td>\n",
       "      <td>0</td>\n",
       "      <td>Everyone 10+</td>\n",
       "      <td>Arcade</td>\n",
       "      <td>July 12, 2018</td>\n",
       "      <td>4.1 and up</td>\n",
       "    </tr>\n",
       "    <tr>\n",
       "      <th>10839</th>\n",
       "      <td>Subway Surfers</td>\n",
       "      <td>GAME</td>\n",
       "      <td>4.50</td>\n",
       "      <td>27725352</td>\n",
       "      <td>76.00</td>\n",
       "      <td>1,000,000,000</td>\n",
       "      <td>Free</td>\n",
       "      <td>0</td>\n",
       "      <td>Everyone 10+</td>\n",
       "      <td>Arcade</td>\n",
       "      <td>July 12, 2018</td>\n",
       "      <td>4.1 and up</td>\n",
       "    </tr>\n",
       "    <tr>\n",
       "      <th>10840</th>\n",
       "      <td>Subway Surfers</td>\n",
       "      <td>GAME</td>\n",
       "      <td>4.50</td>\n",
       "      <td>27711703</td>\n",
       "      <td>76.00</td>\n",
       "      <td>1,000,000,000</td>\n",
       "      <td>Free</td>\n",
       "      <td>0</td>\n",
       "      <td>Everyone 10+</td>\n",
       "      <td>Arcade</td>\n",
       "      <td>July 12, 2018</td>\n",
       "      <td>4.1 and up</td>\n",
       "    </tr>\n",
       "  </tbody>\n",
       "</table>\n",
       "<p>9365 rows × 12 columns</p>\n",
       "</div>"
      ],
      "text/plain": [
       "                                                   App Category  Rating  \\\n",
       "21                                 KBA-EZ Health Guide  MEDICAL    5.00   \n",
       "28                                            Ra Ga Ba     GAME    5.00   \n",
       "47                                             Mu.F.O.     GAME    5.00   \n",
       "82                                    Brick Breaker BR     GAME    5.00   \n",
       "99     Anatomy & Physiology Vocabulary Exam Review App  MEDICAL    5.00   \n",
       "...                                                ...      ...     ...   \n",
       "10836                                   Subway Surfers     GAME    4.50   \n",
       "10837                                   Subway Surfers     GAME    4.50   \n",
       "10838                                   Subway Surfers     GAME    4.50   \n",
       "10839                                   Subway Surfers     GAME    4.50   \n",
       "10840                                   Subway Surfers     GAME    4.50   \n",
       "\n",
       "        Reviews  Size_MBs       Installs  Type  Price Content_Rating   Genres  \\\n",
       "21            4     25.00              1  Free      0       Everyone  Medical   \n",
       "28            2     20.00              1  Paid  $1.49       Everyone   Arcade   \n",
       "47            2     16.00              1  Paid  $0.99       Everyone   Arcade   \n",
       "82            7     19.00              5  Free      0       Everyone   Arcade   \n",
       "99            1      4.60              5  Free      0       Everyone  Medical   \n",
       "...         ...       ...            ...   ...    ...            ...      ...   \n",
       "10836  27723193     76.00  1,000,000,000  Free      0   Everyone 10+   Arcade   \n",
       "10837  27724094     76.00  1,000,000,000  Free      0   Everyone 10+   Arcade   \n",
       "10838  27725352     76.00  1,000,000,000  Free      0   Everyone 10+   Arcade   \n",
       "10839  27725352     76.00  1,000,000,000  Free      0   Everyone 10+   Arcade   \n",
       "10840  27711703     76.00  1,000,000,000  Free      0   Everyone 10+   Arcade   \n",
       "\n",
       "           Last_Updated   Android_Ver  \n",
       "21       August 2, 2018  4.0.3 and up  \n",
       "28     February 8, 2017    2.3 and up  \n",
       "47        March 3, 2017    2.3 and up  \n",
       "82        July 23, 2018    4.1 and up  \n",
       "99       August 2, 2018    4.0 and up  \n",
       "...                 ...           ...  \n",
       "10836     July 12, 2018    4.1 and up  \n",
       "10837     July 12, 2018    4.1 and up  \n",
       "10838     July 12, 2018    4.1 and up  \n",
       "10839     July 12, 2018    4.1 and up  \n",
       "10840     July 12, 2018    4.1 and up  \n",
       "\n",
       "[9365 rows x 12 columns]"
      ]
     },
     "execution_count": 132,
     "metadata": {},
     "output_type": "execute_result"
    }
   ],
   "source": [
    "df_apps.isnull().sum()\n",
    "df_apps.dropna()"
   ]
  },
  {
   "cell_type": "code",
   "execution_count": null,
   "metadata": {
    "id": "IbQnnPaUn1Pw"
   },
   "outputs": [],
   "source": []
  },
  {
   "cell_type": "markdown",
   "metadata": {
    "id": "pD26SWlxdiUV"
   },
   "source": [
    "### Find and Remove Duplicates\n",
    "\n",
    "**Challenge**: Are there any duplicates in data? Check for duplicates using the [.duplicated()](https://pandas.pydata.org/pandas-docs/stable/reference/api/pandas.DataFrame.duplicated.html) function. How many entries can you find for the \"Instagram\" app? Use [.drop_duplicates()](https://pandas.pydata.org/pandas-docs/stable/reference/api/pandas.DataFrame.drop_duplicates.html) to remove any duplicates from `df_apps_clean`. \n"
   ]
  },
  {
   "cell_type": "code",
   "execution_count": 133,
   "metadata": {
    "id": "lE7X6KG3n5pR"
   },
   "outputs": [
    {
     "name": "stderr",
     "output_type": "stream",
     "text": [
      "C:\\Users\\PC\\AppData\\Local\\Temp\\ipykernel_23596\\4058926721.py:3: SettingWithCopyWarning:\n",
      "\n",
      "\n",
      "A value is trying to be set on a copy of a slice from a DataFrame\n",
      "\n",
      "See the caveats in the documentation: https://pandas.pydata.org/pandas-docs/stable/user_guide/indexing.html#returning-a-view-versus-a-copy\n",
      "\n"
     ]
    },
    {
     "data": {
      "text/html": [
       "<div>\n",
       "<style scoped>\n",
       "    .dataframe tbody tr th:only-of-type {\n",
       "        vertical-align: middle;\n",
       "    }\n",
       "\n",
       "    .dataframe tbody tr th {\n",
       "        vertical-align: top;\n",
       "    }\n",
       "\n",
       "    .dataframe thead th {\n",
       "        text-align: right;\n",
       "    }\n",
       "</style>\n",
       "<table border=\"1\" class=\"dataframe\">\n",
       "  <thead>\n",
       "    <tr style=\"text-align: right;\">\n",
       "      <th></th>\n",
       "      <th>App</th>\n",
       "      <th>Category</th>\n",
       "      <th>Rating</th>\n",
       "      <th>Reviews</th>\n",
       "      <th>Size_MBs</th>\n",
       "      <th>Installs</th>\n",
       "      <th>Type</th>\n",
       "      <th>Price</th>\n",
       "      <th>Content_Rating</th>\n",
       "      <th>Genres</th>\n",
       "      <th>Last_Updated</th>\n",
       "      <th>Android_Ver</th>\n",
       "    </tr>\n",
       "  </thead>\n",
       "  <tbody>\n",
       "    <tr>\n",
       "      <th>10806</th>\n",
       "      <td>Instagram</td>\n",
       "      <td>SOCIAL</td>\n",
       "      <td>4.50</td>\n",
       "      <td>66577313</td>\n",
       "      <td>5.30</td>\n",
       "      <td>1,000,000,000</td>\n",
       "      <td>Free</td>\n",
       "      <td>0</td>\n",
       "      <td>Teen</td>\n",
       "      <td>Social</td>\n",
       "      <td>July 31, 2018</td>\n",
       "      <td>Varies with device</td>\n",
       "    </tr>\n",
       "  </tbody>\n",
       "</table>\n",
       "</div>"
      ],
      "text/plain": [
       "             App Category  Rating   Reviews  Size_MBs       Installs  Type  \\\n",
       "10806  Instagram   SOCIAL    4.50  66577313      5.30  1,000,000,000  Free   \n",
       "\n",
       "      Price Content_Rating  Genres   Last_Updated         Android_Ver  \n",
       "10806     0           Teen  Social  July 31, 2018  Varies with device  "
      ]
     },
     "execution_count": 133,
     "metadata": {},
     "output_type": "execute_result"
    }
   ],
   "source": [
    "df_apps.duplicated()\n",
    "df_apps_clean = df_apps.drop_duplicates(subset=[\"App\",\"Type\",\"Price\"],keep=\"first\") #Subset: Examine duplication on *columns*\n",
    "df_apps_clean.dropna(inplace=True)\n",
    "df_apps_clean[df_apps_clean[\"App\"] == \"Instagram\"]"
   ]
  },
  {
   "cell_type": "code",
   "execution_count": null,
   "metadata": {
    "id": "GK2rP7wgn53-"
   },
   "outputs": [],
   "source": []
  },
  {
   "cell_type": "code",
   "execution_count": null,
   "metadata": {
    "id": "Wtt09kiRn6GS"
   },
   "outputs": [],
   "source": []
  },
  {
   "cell_type": "code",
   "execution_count": null,
   "metadata": {
    "id": "30yZCwtKn5xC"
   },
   "outputs": [],
   "source": []
  },
  {
   "cell_type": "code",
   "execution_count": 134,
   "metadata": {
    "id": "AagS_wgWn5ib"
   },
   "outputs": [
    {
     "data": {
      "text/html": [
       "<div>\n",
       "<style scoped>\n",
       "    .dataframe tbody tr th:only-of-type {\n",
       "        vertical-align: middle;\n",
       "    }\n",
       "\n",
       "    .dataframe tbody tr th {\n",
       "        vertical-align: top;\n",
       "    }\n",
       "\n",
       "    .dataframe thead th {\n",
       "        text-align: right;\n",
       "    }\n",
       "</style>\n",
       "<table border=\"1\" class=\"dataframe\">\n",
       "  <thead>\n",
       "    <tr style=\"text-align: right;\">\n",
       "      <th></th>\n",
       "      <th>App</th>\n",
       "      <th>Category</th>\n",
       "      <th>Rating</th>\n",
       "      <th>Reviews</th>\n",
       "      <th>Size_MBs</th>\n",
       "      <th>Installs</th>\n",
       "      <th>Type</th>\n",
       "      <th>Price</th>\n",
       "      <th>Content_Rating</th>\n",
       "      <th>Genres</th>\n",
       "      <th>Last_Updated</th>\n",
       "      <th>Android_Ver</th>\n",
       "    </tr>\n",
       "  </thead>\n",
       "  <tbody>\n",
       "    <tr>\n",
       "      <th>21</th>\n",
       "      <td>KBA-EZ Health Guide</td>\n",
       "      <td>MEDICAL</td>\n",
       "      <td>5.00</td>\n",
       "      <td>4</td>\n",
       "      <td>25.00</td>\n",
       "      <td>1</td>\n",
       "      <td>Free</td>\n",
       "      <td>0</td>\n",
       "      <td>Everyone</td>\n",
       "      <td>Medical</td>\n",
       "      <td>August 2, 2018</td>\n",
       "      <td>4.0.3 and up</td>\n",
       "    </tr>\n",
       "    <tr>\n",
       "      <th>28</th>\n",
       "      <td>Ra Ga Ba</td>\n",
       "      <td>GAME</td>\n",
       "      <td>5.00</td>\n",
       "      <td>2</td>\n",
       "      <td>20.00</td>\n",
       "      <td>1</td>\n",
       "      <td>Paid</td>\n",
       "      <td>$1.49</td>\n",
       "      <td>Everyone</td>\n",
       "      <td>Arcade</td>\n",
       "      <td>February 8, 2017</td>\n",
       "      <td>2.3 and up</td>\n",
       "    </tr>\n",
       "    <tr>\n",
       "      <th>47</th>\n",
       "      <td>Mu.F.O.</td>\n",
       "      <td>GAME</td>\n",
       "      <td>5.00</td>\n",
       "      <td>2</td>\n",
       "      <td>16.00</td>\n",
       "      <td>1</td>\n",
       "      <td>Paid</td>\n",
       "      <td>$0.99</td>\n",
       "      <td>Everyone</td>\n",
       "      <td>Arcade</td>\n",
       "      <td>March 3, 2017</td>\n",
       "      <td>2.3 and up</td>\n",
       "    </tr>\n",
       "    <tr>\n",
       "      <th>82</th>\n",
       "      <td>Brick Breaker BR</td>\n",
       "      <td>GAME</td>\n",
       "      <td>5.00</td>\n",
       "      <td>7</td>\n",
       "      <td>19.00</td>\n",
       "      <td>5</td>\n",
       "      <td>Free</td>\n",
       "      <td>0</td>\n",
       "      <td>Everyone</td>\n",
       "      <td>Arcade</td>\n",
       "      <td>July 23, 2018</td>\n",
       "      <td>4.1 and up</td>\n",
       "    </tr>\n",
       "    <tr>\n",
       "      <th>99</th>\n",
       "      <td>Anatomy &amp; Physiology Vocabulary Exam Review App</td>\n",
       "      <td>MEDICAL</td>\n",
       "      <td>5.00</td>\n",
       "      <td>1</td>\n",
       "      <td>4.60</td>\n",
       "      <td>5</td>\n",
       "      <td>Free</td>\n",
       "      <td>0</td>\n",
       "      <td>Everyone</td>\n",
       "      <td>Medical</td>\n",
       "      <td>August 2, 2018</td>\n",
       "      <td>4.0 and up</td>\n",
       "    </tr>\n",
       "  </tbody>\n",
       "</table>\n",
       "</div>"
      ],
      "text/plain": [
       "                                                App Category  Rating  Reviews  \\\n",
       "21                              KBA-EZ Health Guide  MEDICAL    5.00        4   \n",
       "28                                         Ra Ga Ba     GAME    5.00        2   \n",
       "47                                          Mu.F.O.     GAME    5.00        2   \n",
       "82                                 Brick Breaker BR     GAME    5.00        7   \n",
       "99  Anatomy & Physiology Vocabulary Exam Review App  MEDICAL    5.00        1   \n",
       "\n",
       "    Size_MBs Installs  Type  Price Content_Rating   Genres      Last_Updated  \\\n",
       "21     25.00        1  Free      0       Everyone  Medical    August 2, 2018   \n",
       "28     20.00        1  Paid  $1.49       Everyone   Arcade  February 8, 2017   \n",
       "47     16.00        1  Paid  $0.99       Everyone   Arcade     March 3, 2017   \n",
       "82     19.00        5  Free      0       Everyone   Arcade     July 23, 2018   \n",
       "99      4.60        5  Free      0       Everyone  Medical    August 2, 2018   \n",
       "\n",
       "     Android_Ver  \n",
       "21  4.0.3 and up  \n",
       "28    2.3 and up  \n",
       "47    2.3 and up  \n",
       "82    4.1 and up  \n",
       "99    4.0 and up  "
      ]
     },
     "execution_count": 134,
     "metadata": {},
     "output_type": "execute_result"
    }
   ],
   "source": [
    "df_apps_clean.head()"
   ]
  },
  {
   "cell_type": "markdown",
   "metadata": {
    "id": "GJrM69CfdiUh"
   },
   "source": [
    "# Find Highest Rated Apps\n",
    "\n",
    "**Challenge**: Identify which apps are the highest rated. What problem might you encounter if you rely exclusively on ratings alone to determine the quality of an app?"
   ]
  },
  {
   "cell_type": "markdown",
   "metadata": {},
   "source": [
    "### The rating may be skewed due to bots, or low review count, either way, not something trustworthy to base quality on ###"
   ]
  },
  {
   "cell_type": "code",
   "execution_count": 135,
   "metadata": {
    "id": "rp7vFHBMn7st"
   },
   "outputs": [
    {
     "data": {
      "text/plain": [
       "App\n",
       "Wallpapers FN SCAR H                         5.00\n",
       "Dermatology Atlas (Colored & Illustrative)   5.00\n",
       "CT Cervical Spine                            5.00\n",
       "CT Checkout                                  5.00\n",
       "Ríos de Fe                                   5.00\n",
       "                                             ... \n",
       "MbH BM                                       1.00\n",
       "House party - live chat                      1.00\n",
       "BJ Bridge Standard American 2018             1.00\n",
       "Speech Therapy: F                            1.00\n",
       "Familial Hypercholesterolaemia Handbook      1.00\n",
       "Name: Rating, Length: 8194, dtype: float64"
      ]
     },
     "execution_count": 135,
     "metadata": {},
     "output_type": "execute_result"
    }
   ],
   "source": [
    "df_apps_clean.groupby(\"App\")[\"Rating\"].max().sort_values(ascending=False)"
   ]
  },
  {
   "cell_type": "markdown",
   "metadata": {
    "id": "28o1Tro4diUi"
   },
   "source": [
    "# Find 5 Largest Apps in terms of Size (MBs)\n",
    "\n",
    "**Challenge**: What's the size in megabytes (MB) of the largest Android apps in the Google Play Store. Based on the data, do you think there could be limit in place or can developers make apps as large as they please? "
   ]
  },
  {
   "cell_type": "markdown",
   "metadata": {},
   "source": [
    "#### There should definitely be a limit in place, as an app store can only contain so much data, somebody might make something with malicious purposes in mind to hog server data,... ####"
   ]
  },
  {
   "cell_type": "code",
   "execution_count": 136,
   "metadata": {
    "id": "n5r0pJCOn9Vu"
   },
   "outputs": [
    {
     "name": "stderr",
     "output_type": "stream",
     "text": [
      "C:\\Users\\PC\\AppData\\Local\\Temp\\ipykernel_23596\\3980884224.py:1: FutureWarning:\n",
      "\n",
      "The provided callable <built-in function max> is currently using SeriesGroupBy.max. In a future version of pandas, the provided callable will be used directly. To keep current behavior pass the string \"max\" instead.\n",
      "\n"
     ]
    },
    {
     "data": {
      "text/html": [
       "<div>\n",
       "<style scoped>\n",
       "    .dataframe tbody tr th:only-of-type {\n",
       "        vertical-align: middle;\n",
       "    }\n",
       "\n",
       "    .dataframe tbody tr th {\n",
       "        vertical-align: top;\n",
       "    }\n",
       "\n",
       "    .dataframe thead th {\n",
       "        text-align: right;\n",
       "    }\n",
       "</style>\n",
       "<table border=\"1\" class=\"dataframe\">\n",
       "  <thead>\n",
       "    <tr style=\"text-align: right;\">\n",
       "      <th></th>\n",
       "      <th>Size_MBs</th>\n",
       "    </tr>\n",
       "    <tr>\n",
       "      <th>App</th>\n",
       "      <th></th>\n",
       "    </tr>\n",
       "  </thead>\n",
       "  <tbody>\n",
       "    <tr>\n",
       "      <th>Vi Trainer</th>\n",
       "      <td>100.00</td>\n",
       "    </tr>\n",
       "    <tr>\n",
       "      <th>SimCity BuildIt</th>\n",
       "      <td>100.00</td>\n",
       "    </tr>\n",
       "    <tr>\n",
       "      <th>Car Crash III Beam DH Real Damage Simulator 2018</th>\n",
       "      <td>100.00</td>\n",
       "    </tr>\n",
       "    <tr>\n",
       "      <th>Ultimate Tennis</th>\n",
       "      <td>100.00</td>\n",
       "    </tr>\n",
       "    <tr>\n",
       "      <th>Talking Babsy Baby: Baby Games</th>\n",
       "      <td>100.00</td>\n",
       "    </tr>\n",
       "    <tr>\n",
       "      <th>...</th>\n",
       "      <td>...</td>\n",
       "    </tr>\n",
       "    <tr>\n",
       "      <th>ExDialer PRO Key</th>\n",
       "      <td>0.02</td>\n",
       "    </tr>\n",
       "    <tr>\n",
       "      <th>Ad Remove Plugin for App2SD</th>\n",
       "      <td>0.02</td>\n",
       "    </tr>\n",
       "    <tr>\n",
       "      <th>My baby firework (Remove ad)</th>\n",
       "      <td>0.01</td>\n",
       "    </tr>\n",
       "    <tr>\n",
       "      <th>Market Update Helper</th>\n",
       "      <td>0.01</td>\n",
       "    </tr>\n",
       "    <tr>\n",
       "      <th>Essential Resources</th>\n",
       "      <td>0.01</td>\n",
       "    </tr>\n",
       "  </tbody>\n",
       "</table>\n",
       "<p>8194 rows × 1 columns</p>\n",
       "</div>"
      ],
      "text/plain": [
       "                                                  Size_MBs\n",
       "App                                                       \n",
       "Vi Trainer                                          100.00\n",
       "SimCity BuildIt                                     100.00\n",
       "Car Crash III Beam DH Real Damage Simulator 2018    100.00\n",
       "Ultimate Tennis                                     100.00\n",
       "Talking Babsy Baby: Baby Games                      100.00\n",
       "...                                                    ...\n",
       "ExDialer PRO Key                                      0.02\n",
       "Ad Remove Plugin for App2SD                           0.02\n",
       "My baby firework (Remove ad)                          0.01\n",
       "Market Update Helper                                  0.01\n",
       "Essential Resources                                   0.01\n",
       "\n",
       "[8194 rows x 1 columns]"
      ]
     },
     "execution_count": 136,
     "metadata": {},
     "output_type": "execute_result"
    }
   ],
   "source": [
    "df_apps_clean.groupby(\"App\").agg({\"Size_MBs\": max}).sort_values(\"Size_MBs\",ascending=False)"
   ]
  },
  {
   "cell_type": "markdown",
   "metadata": {
    "id": "C3gTckh7diUk"
   },
   "source": [
    "# Find the 5 App with Most Reviews\n",
    "\n",
    "**Challenge**: Which apps have the highest number of reviews? Are there any paid apps among the top 50?"
   ]
  },
  {
   "cell_type": "code",
   "execution_count": 137,
   "metadata": {
    "id": "TLt98G0Sn_De"
   },
   "outputs": [
    {
     "data": {
      "text/html": [
       "<div>\n",
       "<style scoped>\n",
       "    .dataframe tbody tr th:only-of-type {\n",
       "        vertical-align: middle;\n",
       "    }\n",
       "\n",
       "    .dataframe tbody tr th {\n",
       "        vertical-align: top;\n",
       "    }\n",
       "\n",
       "    .dataframe thead th {\n",
       "        text-align: right;\n",
       "    }\n",
       "</style>\n",
       "<table border=\"1\" class=\"dataframe\">\n",
       "  <thead>\n",
       "    <tr style=\"text-align: right;\">\n",
       "      <th></th>\n",
       "      <th>App</th>\n",
       "      <th>Category</th>\n",
       "      <th>Rating</th>\n",
       "      <th>Reviews</th>\n",
       "      <th>Size_MBs</th>\n",
       "      <th>Installs</th>\n",
       "      <th>Type</th>\n",
       "      <th>Price</th>\n",
       "      <th>Content_Rating</th>\n",
       "      <th>Genres</th>\n",
       "      <th>Last_Updated</th>\n",
       "      <th>Android_Ver</th>\n",
       "    </tr>\n",
       "  </thead>\n",
       "  <tbody>\n",
       "    <tr>\n",
       "      <th>10805</th>\n",
       "      <td>Facebook</td>\n",
       "      <td>SOCIAL</td>\n",
       "      <td>4.10</td>\n",
       "      <td>78158306</td>\n",
       "      <td>5.30</td>\n",
       "      <td>1,000,000,000</td>\n",
       "      <td>Free</td>\n",
       "      <td>0</td>\n",
       "      <td>Teen</td>\n",
       "      <td>Social</td>\n",
       "      <td>August 3, 2018</td>\n",
       "      <td>Varies with device</td>\n",
       "    </tr>\n",
       "  </tbody>\n",
       "</table>\n",
       "</div>"
      ],
      "text/plain": [
       "            App Category  Rating   Reviews  Size_MBs       Installs  Type  \\\n",
       "10805  Facebook   SOCIAL    4.10  78158306      5.30  1,000,000,000  Free   \n",
       "\n",
       "      Price Content_Rating  Genres    Last_Updated         Android_Ver  \n",
       "10805     0           Teen  Social  August 3, 2018  Varies with device  "
      ]
     },
     "execution_count": 137,
     "metadata": {},
     "output_type": "execute_result"
    }
   ],
   "source": [
    "df_apps_clean.sort_values(\"Reviews\",ascending=False).head(1)\n"
   ]
  },
  {
   "cell_type": "markdown",
   "metadata": {
    "id": "BFoRqpezjebe"
   },
   "source": [
    "# Plotly Pie and Donut Charts - Visualise Categorical Data: Content Ratings"
   ]
  },
  {
   "cell_type": "code",
   "execution_count": 138,
   "metadata": {
    "id": "c0IIxNGnoFKM"
   },
   "outputs": [
    {
     "data": {
      "text/plain": [
       "Content_Rating\n",
       "Everyone           6618\n",
       "Teen                912\n",
       "Mature 17+          357\n",
       "Everyone 10+        305\n",
       "Adults only 18+       3\n",
       "Unrated               1\n",
       "Name: count, dtype: int64"
      ]
     },
     "execution_count": 138,
     "metadata": {},
     "output_type": "execute_result"
    }
   ],
   "source": [
    "ratings = df_apps_clean[\"Content_Rating\"].value_counts()\n",
    "ratings"
   ]
  },
  {
   "cell_type": "code",
   "execution_count": 139,
   "metadata": {
    "id": "TSiV6ZkjoFVg"
   },
   "outputs": [
    {
     "ename": "ValueError",
     "evalue": "Mime type rendering requires nbformat>=4.2.0 but it is not installed",
     "output_type": "error",
     "traceback": [
      "\u001b[31m---------------------------------------------------------------------------\u001b[39m",
      "\u001b[31mValueError\u001b[39m                                Traceback (most recent call last)",
      "\u001b[36mFile \u001b[39m\u001b[32mc:\\Users\\PC\\Desktop\\Programming\\python_projects\\100daysofpython\\.venv\\Lib\\site-packages\\IPython\\core\\formatters.py:984\u001b[39m, in \u001b[36mIPythonDisplayFormatter.__call__\u001b[39m\u001b[34m(self, obj)\u001b[39m\n\u001b[32m    982\u001b[39m method = get_real_method(obj, \u001b[38;5;28mself\u001b[39m.print_method)\n\u001b[32m    983\u001b[39m \u001b[38;5;28;01mif\u001b[39;00m method \u001b[38;5;129;01mis\u001b[39;00m \u001b[38;5;129;01mnot\u001b[39;00m \u001b[38;5;28;01mNone\u001b[39;00m:\n\u001b[32m--> \u001b[39m\u001b[32m984\u001b[39m     \u001b[43mmethod\u001b[49m\u001b[43m(\u001b[49m\u001b[43m)\u001b[49m\n\u001b[32m    985\u001b[39m     \u001b[38;5;28;01mreturn\u001b[39;00m \u001b[38;5;28;01mTrue\u001b[39;00m\n",
      "\u001b[36mFile \u001b[39m\u001b[32mc:\\Users\\PC\\Desktop\\Programming\\python_projects\\100daysofpython\\.venv\\Lib\\site-packages\\plotly\\basedatatypes.py:833\u001b[39m, in \u001b[36mBaseFigure._ipython_display_\u001b[39m\u001b[34m(self)\u001b[39m\n\u001b[32m    830\u001b[39m \u001b[38;5;28;01mimport\u001b[39;00m\u001b[38;5;250m \u001b[39m\u001b[34;01mplotly\u001b[39;00m\u001b[34;01m.\u001b[39;00m\u001b[34;01mio\u001b[39;00m\u001b[38;5;250m \u001b[39m\u001b[38;5;28;01mas\u001b[39;00m\u001b[38;5;250m \u001b[39m\u001b[34;01mpio\u001b[39;00m\n\u001b[32m    832\u001b[39m \u001b[38;5;28;01mif\u001b[39;00m pio.renderers.render_on_display \u001b[38;5;129;01mand\u001b[39;00m pio.renderers.default:\n\u001b[32m--> \u001b[39m\u001b[32m833\u001b[39m     \u001b[43mpio\u001b[49m\u001b[43m.\u001b[49m\u001b[43mshow\u001b[49m\u001b[43m(\u001b[49m\u001b[38;5;28;43mself\u001b[39;49m\u001b[43m)\u001b[49m\n\u001b[32m    834\u001b[39m \u001b[38;5;28;01melse\u001b[39;00m:\n\u001b[32m    835\u001b[39m     \u001b[38;5;28mprint\u001b[39m(\u001b[38;5;28mrepr\u001b[39m(\u001b[38;5;28mself\u001b[39m))\n",
      "\u001b[36mFile \u001b[39m\u001b[32mc:\\Users\\PC\\Desktop\\Programming\\python_projects\\100daysofpython\\.venv\\Lib\\site-packages\\plotly\\io\\_renderers.py:425\u001b[39m, in \u001b[36mshow\u001b[39m\u001b[34m(fig, renderer, validate, **kwargs)\u001b[39m\n\u001b[32m    420\u001b[39m     \u001b[38;5;28;01mraise\u001b[39;00m \u001b[38;5;167;01mValueError\u001b[39;00m(\n\u001b[32m    421\u001b[39m         \u001b[33m\"\u001b[39m\u001b[33mMime type rendering requires ipython but it is not installed\u001b[39m\u001b[33m\"\u001b[39m\n\u001b[32m    422\u001b[39m     )\n\u001b[32m    424\u001b[39m \u001b[38;5;28;01mif\u001b[39;00m \u001b[38;5;129;01mnot\u001b[39;00m nbformat \u001b[38;5;129;01mor\u001b[39;00m Version(nbformat.__version__) < Version(\u001b[33m\"\u001b[39m\u001b[33m4.2.0\u001b[39m\u001b[33m\"\u001b[39m):\n\u001b[32m--> \u001b[39m\u001b[32m425\u001b[39m     \u001b[38;5;28;01mraise\u001b[39;00m \u001b[38;5;167;01mValueError\u001b[39;00m(\n\u001b[32m    426\u001b[39m         \u001b[33m\"\u001b[39m\u001b[33mMime type rendering requires nbformat>=4.2.0 but it is not installed\u001b[39m\u001b[33m\"\u001b[39m\n\u001b[32m    427\u001b[39m     )\n\u001b[32m    429\u001b[39m display_jupyter_version_warnings()\n\u001b[32m    431\u001b[39m ipython_display.display(bundle, raw=\u001b[38;5;28;01mTrue\u001b[39;00m)\n",
      "\u001b[31mValueError\u001b[39m: Mime type rendering requires nbformat>=4.2.0 but it is not installed"
     ]
    },
    {
     "data": {
      "application/vnd.plotly.v1+json": {
       "config": {
        "plotlyServerURL": "https://plot.ly"
       },
       "data": [
        {
         "domain": {
          "x": [
           0,
           1
          ],
          "y": [
           0,
           1
          ]
         },
         "hole": 0.6,
         "hovertemplate": "label=%{label}<br>value=%{value}<extra></extra>",
         "labels": [
          "Everyone",
          "Teen",
          "Mature 17+",
          "Everyone 10+",
          "Adults only 18+",
          "Unrated"
         ],
         "legendgroup": "",
         "name": "",
         "showlegend": true,
         "textfont": {
          "size": 15
         },
         "textinfo": "percent+label",
         "textposition": "outside",
         "type": "pie",
         "values": {
          "bdata": "2hmQA2UBMQEDAAEA",
          "dtype": "i2"
         }
        }
       ],
       "layout": {
        "legend": {
         "tracegroupgap": 0
        },
        "template": {
         "data": {
          "bar": [
           {
            "error_x": {
             "color": "#2a3f5f"
            },
            "error_y": {
             "color": "#2a3f5f"
            },
            "marker": {
             "line": {
              "color": "#E5ECF6",
              "width": 0.5
             },
             "pattern": {
              "fillmode": "overlay",
              "size": 10,
              "solidity": 0.2
             }
            },
            "type": "bar"
           }
          ],
          "barpolar": [
           {
            "marker": {
             "line": {
              "color": "#E5ECF6",
              "width": 0.5
             },
             "pattern": {
              "fillmode": "overlay",
              "size": 10,
              "solidity": 0.2
             }
            },
            "type": "barpolar"
           }
          ],
          "carpet": [
           {
            "aaxis": {
             "endlinecolor": "#2a3f5f",
             "gridcolor": "white",
             "linecolor": "white",
             "minorgridcolor": "white",
             "startlinecolor": "#2a3f5f"
            },
            "baxis": {
             "endlinecolor": "#2a3f5f",
             "gridcolor": "white",
             "linecolor": "white",
             "minorgridcolor": "white",
             "startlinecolor": "#2a3f5f"
            },
            "type": "carpet"
           }
          ],
          "choropleth": [
           {
            "colorbar": {
             "outlinewidth": 0,
             "ticks": ""
            },
            "type": "choropleth"
           }
          ],
          "contour": [
           {
            "colorbar": {
             "outlinewidth": 0,
             "ticks": ""
            },
            "colorscale": [
             [
              0,
              "#0d0887"
             ],
             [
              0.1111111111111111,
              "#46039f"
             ],
             [
              0.2222222222222222,
              "#7201a8"
             ],
             [
              0.3333333333333333,
              "#9c179e"
             ],
             [
              0.4444444444444444,
              "#bd3786"
             ],
             [
              0.5555555555555556,
              "#d8576b"
             ],
             [
              0.6666666666666666,
              "#ed7953"
             ],
             [
              0.7777777777777778,
              "#fb9f3a"
             ],
             [
              0.8888888888888888,
              "#fdca26"
             ],
             [
              1,
              "#f0f921"
             ]
            ],
            "type": "contour"
           }
          ],
          "contourcarpet": [
           {
            "colorbar": {
             "outlinewidth": 0,
             "ticks": ""
            },
            "type": "contourcarpet"
           }
          ],
          "heatmap": [
           {
            "colorbar": {
             "outlinewidth": 0,
             "ticks": ""
            },
            "colorscale": [
             [
              0,
              "#0d0887"
             ],
             [
              0.1111111111111111,
              "#46039f"
             ],
             [
              0.2222222222222222,
              "#7201a8"
             ],
             [
              0.3333333333333333,
              "#9c179e"
             ],
             [
              0.4444444444444444,
              "#bd3786"
             ],
             [
              0.5555555555555556,
              "#d8576b"
             ],
             [
              0.6666666666666666,
              "#ed7953"
             ],
             [
              0.7777777777777778,
              "#fb9f3a"
             ],
             [
              0.8888888888888888,
              "#fdca26"
             ],
             [
              1,
              "#f0f921"
             ]
            ],
            "type": "heatmap"
           }
          ],
          "histogram": [
           {
            "marker": {
             "pattern": {
              "fillmode": "overlay",
              "size": 10,
              "solidity": 0.2
             }
            },
            "type": "histogram"
           }
          ],
          "histogram2d": [
           {
            "colorbar": {
             "outlinewidth": 0,
             "ticks": ""
            },
            "colorscale": [
             [
              0,
              "#0d0887"
             ],
             [
              0.1111111111111111,
              "#46039f"
             ],
             [
              0.2222222222222222,
              "#7201a8"
             ],
             [
              0.3333333333333333,
              "#9c179e"
             ],
             [
              0.4444444444444444,
              "#bd3786"
             ],
             [
              0.5555555555555556,
              "#d8576b"
             ],
             [
              0.6666666666666666,
              "#ed7953"
             ],
             [
              0.7777777777777778,
              "#fb9f3a"
             ],
             [
              0.8888888888888888,
              "#fdca26"
             ],
             [
              1,
              "#f0f921"
             ]
            ],
            "type": "histogram2d"
           }
          ],
          "histogram2dcontour": [
           {
            "colorbar": {
             "outlinewidth": 0,
             "ticks": ""
            },
            "colorscale": [
             [
              0,
              "#0d0887"
             ],
             [
              0.1111111111111111,
              "#46039f"
             ],
             [
              0.2222222222222222,
              "#7201a8"
             ],
             [
              0.3333333333333333,
              "#9c179e"
             ],
             [
              0.4444444444444444,
              "#bd3786"
             ],
             [
              0.5555555555555556,
              "#d8576b"
             ],
             [
              0.6666666666666666,
              "#ed7953"
             ],
             [
              0.7777777777777778,
              "#fb9f3a"
             ],
             [
              0.8888888888888888,
              "#fdca26"
             ],
             [
              1,
              "#f0f921"
             ]
            ],
            "type": "histogram2dcontour"
           }
          ],
          "mesh3d": [
           {
            "colorbar": {
             "outlinewidth": 0,
             "ticks": ""
            },
            "type": "mesh3d"
           }
          ],
          "parcoords": [
           {
            "line": {
             "colorbar": {
              "outlinewidth": 0,
              "ticks": ""
             }
            },
            "type": "parcoords"
           }
          ],
          "pie": [
           {
            "automargin": true,
            "type": "pie"
           }
          ],
          "scatter": [
           {
            "fillpattern": {
             "fillmode": "overlay",
             "size": 10,
             "solidity": 0.2
            },
            "type": "scatter"
           }
          ],
          "scatter3d": [
           {
            "line": {
             "colorbar": {
              "outlinewidth": 0,
              "ticks": ""
             }
            },
            "marker": {
             "colorbar": {
              "outlinewidth": 0,
              "ticks": ""
             }
            },
            "type": "scatter3d"
           }
          ],
          "scattercarpet": [
           {
            "marker": {
             "colorbar": {
              "outlinewidth": 0,
              "ticks": ""
             }
            },
            "type": "scattercarpet"
           }
          ],
          "scattergeo": [
           {
            "marker": {
             "colorbar": {
              "outlinewidth": 0,
              "ticks": ""
             }
            },
            "type": "scattergeo"
           }
          ],
          "scattergl": [
           {
            "marker": {
             "colorbar": {
              "outlinewidth": 0,
              "ticks": ""
             }
            },
            "type": "scattergl"
           }
          ],
          "scattermap": [
           {
            "marker": {
             "colorbar": {
              "outlinewidth": 0,
              "ticks": ""
             }
            },
            "type": "scattermap"
           }
          ],
          "scattermapbox": [
           {
            "marker": {
             "colorbar": {
              "outlinewidth": 0,
              "ticks": ""
             }
            },
            "type": "scattermapbox"
           }
          ],
          "scatterpolar": [
           {
            "marker": {
             "colorbar": {
              "outlinewidth": 0,
              "ticks": ""
             }
            },
            "type": "scatterpolar"
           }
          ],
          "scatterpolargl": [
           {
            "marker": {
             "colorbar": {
              "outlinewidth": 0,
              "ticks": ""
             }
            },
            "type": "scatterpolargl"
           }
          ],
          "scatterternary": [
           {
            "marker": {
             "colorbar": {
              "outlinewidth": 0,
              "ticks": ""
             }
            },
            "type": "scatterternary"
           }
          ],
          "surface": [
           {
            "colorbar": {
             "outlinewidth": 0,
             "ticks": ""
            },
            "colorscale": [
             [
              0,
              "#0d0887"
             ],
             [
              0.1111111111111111,
              "#46039f"
             ],
             [
              0.2222222222222222,
              "#7201a8"
             ],
             [
              0.3333333333333333,
              "#9c179e"
             ],
             [
              0.4444444444444444,
              "#bd3786"
             ],
             [
              0.5555555555555556,
              "#d8576b"
             ],
             [
              0.6666666666666666,
              "#ed7953"
             ],
             [
              0.7777777777777778,
              "#fb9f3a"
             ],
             [
              0.8888888888888888,
              "#fdca26"
             ],
             [
              1,
              "#f0f921"
             ]
            ],
            "type": "surface"
           }
          ],
          "table": [
           {
            "cells": {
             "fill": {
              "color": "#EBF0F8"
             },
             "line": {
              "color": "white"
             }
            },
            "header": {
             "fill": {
              "color": "#C8D4E3"
             },
             "line": {
              "color": "white"
             }
            },
            "type": "table"
           }
          ]
         },
         "layout": {
          "annotationdefaults": {
           "arrowcolor": "#2a3f5f",
           "arrowhead": 0,
           "arrowwidth": 1
          },
          "autotypenumbers": "strict",
          "coloraxis": {
           "colorbar": {
            "outlinewidth": 0,
            "ticks": ""
           }
          },
          "colorscale": {
           "diverging": [
            [
             0,
             "#8e0152"
            ],
            [
             0.1,
             "#c51b7d"
            ],
            [
             0.2,
             "#de77ae"
            ],
            [
             0.3,
             "#f1b6da"
            ],
            [
             0.4,
             "#fde0ef"
            ],
            [
             0.5,
             "#f7f7f7"
            ],
            [
             0.6,
             "#e6f5d0"
            ],
            [
             0.7,
             "#b8e186"
            ],
            [
             0.8,
             "#7fbc41"
            ],
            [
             0.9,
             "#4d9221"
            ],
            [
             1,
             "#276419"
            ]
           ],
           "sequential": [
            [
             0,
             "#0d0887"
            ],
            [
             0.1111111111111111,
             "#46039f"
            ],
            [
             0.2222222222222222,
             "#7201a8"
            ],
            [
             0.3333333333333333,
             "#9c179e"
            ],
            [
             0.4444444444444444,
             "#bd3786"
            ],
            [
             0.5555555555555556,
             "#d8576b"
            ],
            [
             0.6666666666666666,
             "#ed7953"
            ],
            [
             0.7777777777777778,
             "#fb9f3a"
            ],
            [
             0.8888888888888888,
             "#fdca26"
            ],
            [
             1,
             "#f0f921"
            ]
           ],
           "sequentialminus": [
            [
             0,
             "#0d0887"
            ],
            [
             0.1111111111111111,
             "#46039f"
            ],
            [
             0.2222222222222222,
             "#7201a8"
            ],
            [
             0.3333333333333333,
             "#9c179e"
            ],
            [
             0.4444444444444444,
             "#bd3786"
            ],
            [
             0.5555555555555556,
             "#d8576b"
            ],
            [
             0.6666666666666666,
             "#ed7953"
            ],
            [
             0.7777777777777778,
             "#fb9f3a"
            ],
            [
             0.8888888888888888,
             "#fdca26"
            ],
            [
             1,
             "#f0f921"
            ]
           ]
          },
          "colorway": [
           "#636efa",
           "#EF553B",
           "#00cc96",
           "#ab63fa",
           "#FFA15A",
           "#19d3f3",
           "#FF6692",
           "#B6E880",
           "#FF97FF",
           "#FECB52"
          ],
          "font": {
           "color": "#2a3f5f"
          },
          "geo": {
           "bgcolor": "white",
           "lakecolor": "white",
           "landcolor": "#E5ECF6",
           "showlakes": true,
           "showland": true,
           "subunitcolor": "white"
          },
          "hoverlabel": {
           "align": "left"
          },
          "hovermode": "closest",
          "mapbox": {
           "style": "light"
          },
          "paper_bgcolor": "white",
          "plot_bgcolor": "#E5ECF6",
          "polar": {
           "angularaxis": {
            "gridcolor": "white",
            "linecolor": "white",
            "ticks": ""
           },
           "bgcolor": "#E5ECF6",
           "radialaxis": {
            "gridcolor": "white",
            "linecolor": "white",
            "ticks": ""
           }
          },
          "scene": {
           "xaxis": {
            "backgroundcolor": "#E5ECF6",
            "gridcolor": "white",
            "gridwidth": 2,
            "linecolor": "white",
            "showbackground": true,
            "ticks": "",
            "zerolinecolor": "white"
           },
           "yaxis": {
            "backgroundcolor": "#E5ECF6",
            "gridcolor": "white",
            "gridwidth": 2,
            "linecolor": "white",
            "showbackground": true,
            "ticks": "",
            "zerolinecolor": "white"
           },
           "zaxis": {
            "backgroundcolor": "#E5ECF6",
            "gridcolor": "white",
            "gridwidth": 2,
            "linecolor": "white",
            "showbackground": true,
            "ticks": "",
            "zerolinecolor": "white"
           }
          },
          "shapedefaults": {
           "line": {
            "color": "#2a3f5f"
           }
          },
          "ternary": {
           "aaxis": {
            "gridcolor": "white",
            "linecolor": "white",
            "ticks": ""
           },
           "baxis": {
            "gridcolor": "white",
            "linecolor": "white",
            "ticks": ""
           },
           "bgcolor": "#E5ECF6",
           "caxis": {
            "gridcolor": "white",
            "linecolor": "white",
            "ticks": ""
           }
          },
          "title": {
           "x": 0.05
          },
          "xaxis": {
           "automargin": true,
           "gridcolor": "white",
           "linecolor": "white",
           "ticks": "",
           "title": {
            "standoff": 15
           },
           "zerolinecolor": "white",
           "zerolinewidth": 2
          },
          "yaxis": {
           "automargin": true,
           "gridcolor": "white",
           "linecolor": "white",
           "ticks": "",
           "title": {
            "standoff": 15
           },
           "zerolinecolor": "white",
           "zerolinewidth": 2
          }
         }
        },
        "title": {
         "text": "Content Ratings"
        }
       }
      },
      "text/html": [
       "<div>                        <script type=\"text/javascript\">window.PlotlyConfig = {MathJaxConfig: 'local'};</script>\n",
       "        <script charset=\"utf-8\" src=\"https://cdn.plot.ly/plotly-3.0.1.min.js\"></script>                <div id=\"95e907c4-5a76-446f-ab98-3ecf420ac3b9\" class=\"plotly-graph-div\" style=\"height:100%; width:100%;\"></div>            <script type=\"text/javascript\">                window.PLOTLYENV=window.PLOTLYENV || {};                                if (document.getElementById(\"95e907c4-5a76-446f-ab98-3ecf420ac3b9\")) {                    Plotly.newPlot(                        \"95e907c4-5a76-446f-ab98-3ecf420ac3b9\",                        [{\"domain\":{\"x\":[0.0,1.0],\"y\":[0.0,1.0]},\"hole\":0.6,\"hovertemplate\":\"label=%{label}\\u003cbr\\u003evalue=%{value}\\u003cextra\\u003e\\u003c\\u002fextra\\u003e\",\"labels\":[\"Everyone\",\"Teen\",\"Mature 17+\",\"Everyone 10+\",\"Adults only 18+\",\"Unrated\"],\"legendgroup\":\"\",\"name\":\"\",\"showlegend\":true,\"values\":{\"dtype\":\"i2\",\"bdata\":\"2hmQA2UBMQEDAAEA\"},\"type\":\"pie\",\"textfont\":{\"size\":15},\"textinfo\":\"percent+label\",\"textposition\":\"outside\"}],                        {\"template\":{\"data\":{\"histogram2dcontour\":[{\"type\":\"histogram2dcontour\",\"colorbar\":{\"outlinewidth\":0,\"ticks\":\"\"},\"colorscale\":[[0.0,\"#0d0887\"],[0.1111111111111111,\"#46039f\"],[0.2222222222222222,\"#7201a8\"],[0.3333333333333333,\"#9c179e\"],[0.4444444444444444,\"#bd3786\"],[0.5555555555555556,\"#d8576b\"],[0.6666666666666666,\"#ed7953\"],[0.7777777777777778,\"#fb9f3a\"],[0.8888888888888888,\"#fdca26\"],[1.0,\"#f0f921\"]]}],\"choropleth\":[{\"type\":\"choropleth\",\"colorbar\":{\"outlinewidth\":0,\"ticks\":\"\"}}],\"histogram2d\":[{\"type\":\"histogram2d\",\"colorbar\":{\"outlinewidth\":0,\"ticks\":\"\"},\"colorscale\":[[0.0,\"#0d0887\"],[0.1111111111111111,\"#46039f\"],[0.2222222222222222,\"#7201a8\"],[0.3333333333333333,\"#9c179e\"],[0.4444444444444444,\"#bd3786\"],[0.5555555555555556,\"#d8576b\"],[0.6666666666666666,\"#ed7953\"],[0.7777777777777778,\"#fb9f3a\"],[0.8888888888888888,\"#fdca26\"],[1.0,\"#f0f921\"]]}],\"heatmap\":[{\"type\":\"heatmap\",\"colorbar\":{\"outlinewidth\":0,\"ticks\":\"\"},\"colorscale\":[[0.0,\"#0d0887\"],[0.1111111111111111,\"#46039f\"],[0.2222222222222222,\"#7201a8\"],[0.3333333333333333,\"#9c179e\"],[0.4444444444444444,\"#bd3786\"],[0.5555555555555556,\"#d8576b\"],[0.6666666666666666,\"#ed7953\"],[0.7777777777777778,\"#fb9f3a\"],[0.8888888888888888,\"#fdca26\"],[1.0,\"#f0f921\"]]}],\"contourcarpet\":[{\"type\":\"contourcarpet\",\"colorbar\":{\"outlinewidth\":0,\"ticks\":\"\"}}],\"contour\":[{\"type\":\"contour\",\"colorbar\":{\"outlinewidth\":0,\"ticks\":\"\"},\"colorscale\":[[0.0,\"#0d0887\"],[0.1111111111111111,\"#46039f\"],[0.2222222222222222,\"#7201a8\"],[0.3333333333333333,\"#9c179e\"],[0.4444444444444444,\"#bd3786\"],[0.5555555555555556,\"#d8576b\"],[0.6666666666666666,\"#ed7953\"],[0.7777777777777778,\"#fb9f3a\"],[0.8888888888888888,\"#fdca26\"],[1.0,\"#f0f921\"]]}],\"surface\":[{\"type\":\"surface\",\"colorbar\":{\"outlinewidth\":0,\"ticks\":\"\"},\"colorscale\":[[0.0,\"#0d0887\"],[0.1111111111111111,\"#46039f\"],[0.2222222222222222,\"#7201a8\"],[0.3333333333333333,\"#9c179e\"],[0.4444444444444444,\"#bd3786\"],[0.5555555555555556,\"#d8576b\"],[0.6666666666666666,\"#ed7953\"],[0.7777777777777778,\"#fb9f3a\"],[0.8888888888888888,\"#fdca26\"],[1.0,\"#f0f921\"]]}],\"mesh3d\":[{\"type\":\"mesh3d\",\"colorbar\":{\"outlinewidth\":0,\"ticks\":\"\"}}],\"scatter\":[{\"fillpattern\":{\"fillmode\":\"overlay\",\"size\":10,\"solidity\":0.2},\"type\":\"scatter\"}],\"parcoords\":[{\"type\":\"parcoords\",\"line\":{\"colorbar\":{\"outlinewidth\":0,\"ticks\":\"\"}}}],\"scatterpolargl\":[{\"type\":\"scatterpolargl\",\"marker\":{\"colorbar\":{\"outlinewidth\":0,\"ticks\":\"\"}}}],\"bar\":[{\"error_x\":{\"color\":\"#2a3f5f\"},\"error_y\":{\"color\":\"#2a3f5f\"},\"marker\":{\"line\":{\"color\":\"#E5ECF6\",\"width\":0.5},\"pattern\":{\"fillmode\":\"overlay\",\"size\":10,\"solidity\":0.2}},\"type\":\"bar\"}],\"scattergeo\":[{\"type\":\"scattergeo\",\"marker\":{\"colorbar\":{\"outlinewidth\":0,\"ticks\":\"\"}}}],\"scatterpolar\":[{\"type\":\"scatterpolar\",\"marker\":{\"colorbar\":{\"outlinewidth\":0,\"ticks\":\"\"}}}],\"histogram\":[{\"marker\":{\"pattern\":{\"fillmode\":\"overlay\",\"size\":10,\"solidity\":0.2}},\"type\":\"histogram\"}],\"scattergl\":[{\"type\":\"scattergl\",\"marker\":{\"colorbar\":{\"outlinewidth\":0,\"ticks\":\"\"}}}],\"scatter3d\":[{\"type\":\"scatter3d\",\"line\":{\"colorbar\":{\"outlinewidth\":0,\"ticks\":\"\"}},\"marker\":{\"colorbar\":{\"outlinewidth\":0,\"ticks\":\"\"}}}],\"scattermap\":[{\"type\":\"scattermap\",\"marker\":{\"colorbar\":{\"outlinewidth\":0,\"ticks\":\"\"}}}],\"scattermapbox\":[{\"type\":\"scattermapbox\",\"marker\":{\"colorbar\":{\"outlinewidth\":0,\"ticks\":\"\"}}}],\"scatterternary\":[{\"type\":\"scatterternary\",\"marker\":{\"colorbar\":{\"outlinewidth\":0,\"ticks\":\"\"}}}],\"scattercarpet\":[{\"type\":\"scattercarpet\",\"marker\":{\"colorbar\":{\"outlinewidth\":0,\"ticks\":\"\"}}}],\"carpet\":[{\"aaxis\":{\"endlinecolor\":\"#2a3f5f\",\"gridcolor\":\"white\",\"linecolor\":\"white\",\"minorgridcolor\":\"white\",\"startlinecolor\":\"#2a3f5f\"},\"baxis\":{\"endlinecolor\":\"#2a3f5f\",\"gridcolor\":\"white\",\"linecolor\":\"white\",\"minorgridcolor\":\"white\",\"startlinecolor\":\"#2a3f5f\"},\"type\":\"carpet\"}],\"table\":[{\"cells\":{\"fill\":{\"color\":\"#EBF0F8\"},\"line\":{\"color\":\"white\"}},\"header\":{\"fill\":{\"color\":\"#C8D4E3\"},\"line\":{\"color\":\"white\"}},\"type\":\"table\"}],\"barpolar\":[{\"marker\":{\"line\":{\"color\":\"#E5ECF6\",\"width\":0.5},\"pattern\":{\"fillmode\":\"overlay\",\"size\":10,\"solidity\":0.2}},\"type\":\"barpolar\"}],\"pie\":[{\"automargin\":true,\"type\":\"pie\"}]},\"layout\":{\"autotypenumbers\":\"strict\",\"colorway\":[\"#636efa\",\"#EF553B\",\"#00cc96\",\"#ab63fa\",\"#FFA15A\",\"#19d3f3\",\"#FF6692\",\"#B6E880\",\"#FF97FF\",\"#FECB52\"],\"font\":{\"color\":\"#2a3f5f\"},\"hovermode\":\"closest\",\"hoverlabel\":{\"align\":\"left\"},\"paper_bgcolor\":\"white\",\"plot_bgcolor\":\"#E5ECF6\",\"polar\":{\"bgcolor\":\"#E5ECF6\",\"angularaxis\":{\"gridcolor\":\"white\",\"linecolor\":\"white\",\"ticks\":\"\"},\"radialaxis\":{\"gridcolor\":\"white\",\"linecolor\":\"white\",\"ticks\":\"\"}},\"ternary\":{\"bgcolor\":\"#E5ECF6\",\"aaxis\":{\"gridcolor\":\"white\",\"linecolor\":\"white\",\"ticks\":\"\"},\"baxis\":{\"gridcolor\":\"white\",\"linecolor\":\"white\",\"ticks\":\"\"},\"caxis\":{\"gridcolor\":\"white\",\"linecolor\":\"white\",\"ticks\":\"\"}},\"coloraxis\":{\"colorbar\":{\"outlinewidth\":0,\"ticks\":\"\"}},\"colorscale\":{\"sequential\":[[0.0,\"#0d0887\"],[0.1111111111111111,\"#46039f\"],[0.2222222222222222,\"#7201a8\"],[0.3333333333333333,\"#9c179e\"],[0.4444444444444444,\"#bd3786\"],[0.5555555555555556,\"#d8576b\"],[0.6666666666666666,\"#ed7953\"],[0.7777777777777778,\"#fb9f3a\"],[0.8888888888888888,\"#fdca26\"],[1.0,\"#f0f921\"]],\"sequentialminus\":[[0.0,\"#0d0887\"],[0.1111111111111111,\"#46039f\"],[0.2222222222222222,\"#7201a8\"],[0.3333333333333333,\"#9c179e\"],[0.4444444444444444,\"#bd3786\"],[0.5555555555555556,\"#d8576b\"],[0.6666666666666666,\"#ed7953\"],[0.7777777777777778,\"#fb9f3a\"],[0.8888888888888888,\"#fdca26\"],[1.0,\"#f0f921\"]],\"diverging\":[[0,\"#8e0152\"],[0.1,\"#c51b7d\"],[0.2,\"#de77ae\"],[0.3,\"#f1b6da\"],[0.4,\"#fde0ef\"],[0.5,\"#f7f7f7\"],[0.6,\"#e6f5d0\"],[0.7,\"#b8e186\"],[0.8,\"#7fbc41\"],[0.9,\"#4d9221\"],[1,\"#276419\"]]},\"xaxis\":{\"gridcolor\":\"white\",\"linecolor\":\"white\",\"ticks\":\"\",\"title\":{\"standoff\":15},\"zerolinecolor\":\"white\",\"automargin\":true,\"zerolinewidth\":2},\"yaxis\":{\"gridcolor\":\"white\",\"linecolor\":\"white\",\"ticks\":\"\",\"title\":{\"standoff\":15},\"zerolinecolor\":\"white\",\"automargin\":true,\"zerolinewidth\":2},\"scene\":{\"xaxis\":{\"backgroundcolor\":\"#E5ECF6\",\"gridcolor\":\"white\",\"linecolor\":\"white\",\"showbackground\":true,\"ticks\":\"\",\"zerolinecolor\":\"white\",\"gridwidth\":2},\"yaxis\":{\"backgroundcolor\":\"#E5ECF6\",\"gridcolor\":\"white\",\"linecolor\":\"white\",\"showbackground\":true,\"ticks\":\"\",\"zerolinecolor\":\"white\",\"gridwidth\":2},\"zaxis\":{\"backgroundcolor\":\"#E5ECF6\",\"gridcolor\":\"white\",\"linecolor\":\"white\",\"showbackground\":true,\"ticks\":\"\",\"zerolinecolor\":\"white\",\"gridwidth\":2}},\"shapedefaults\":{\"line\":{\"color\":\"#2a3f5f\"}},\"annotationdefaults\":{\"arrowcolor\":\"#2a3f5f\",\"arrowhead\":0,\"arrowwidth\":1},\"geo\":{\"bgcolor\":\"white\",\"landcolor\":\"#E5ECF6\",\"subunitcolor\":\"white\",\"showland\":true,\"showlakes\":true,\"lakecolor\":\"white\"},\"title\":{\"x\":0.05},\"mapbox\":{\"style\":\"light\"}}},\"legend\":{\"tracegroupgap\":0},\"title\":{\"text\":\"Content Ratings\"}},                        {\"responsive\": true}                    )                };            </script>        </div>"
      ],
      "text/plain": [
       "Figure({\n",
       "    'data': [{'domain': {'x': [0.0, 1.0], 'y': [0.0, 1.0]},\n",
       "              'hole': 0.6,\n",
       "              'hovertemplate': 'label=%{label}<br>value=%{value}<extra></extra>',\n",
       "              'labels': array(['Everyone', 'Teen', 'Mature 17+', 'Everyone 10+', 'Adults only 18+',\n",
       "                               'Unrated'], dtype=object),\n",
       "              'legendgroup': '',\n",
       "              'name': '',\n",
       "              'showlegend': True,\n",
       "              'textfont': {'size': 15},\n",
       "              'textinfo': 'percent+label',\n",
       "              'textposition': 'outside',\n",
       "              'type': 'pie',\n",
       "              'values': {'bdata': '2hmQA2UBMQEDAAEA', 'dtype': 'i2'}}],\n",
       "    'layout': {'legend': {'tracegroupgap': 0}, 'template': '...', 'title': {'text': 'Content Ratings'}}\n",
       "})"
      ]
     },
     "execution_count": 139,
     "metadata": {},
     "output_type": "execute_result"
    }
   ],
   "source": [
    "fig = px.pie(labels=ratings.index,values=ratings.values,title=\"Content Ratings\",names=ratings.index,hole=0.6)\n",
    "fig.update_traces(textposition=\"outside\",textinfo=\"percent+label\",textfont_size=15)"
   ]
  },
  {
   "cell_type": "code",
   "execution_count": null,
   "metadata": {
    "id": "7kil2mdfoFOr"
   },
   "outputs": [],
   "source": []
  },
  {
   "cell_type": "code",
   "execution_count": 140,
   "metadata": {
    "id": "6ZaHYNy2oFEE"
   },
   "outputs": [
    {
     "data": {
      "text/html": [
       "<div>\n",
       "<style scoped>\n",
       "    .dataframe tbody tr th:only-of-type {\n",
       "        vertical-align: middle;\n",
       "    }\n",
       "\n",
       "    .dataframe tbody tr th {\n",
       "        vertical-align: top;\n",
       "    }\n",
       "\n",
       "    .dataframe thead th {\n",
       "        text-align: right;\n",
       "    }\n",
       "</style>\n",
       "<table border=\"1\" class=\"dataframe\">\n",
       "  <thead>\n",
       "    <tr style=\"text-align: right;\">\n",
       "      <th></th>\n",
       "      <th>App</th>\n",
       "      <th>Category</th>\n",
       "      <th>Rating</th>\n",
       "      <th>Reviews</th>\n",
       "      <th>Size_MBs</th>\n",
       "      <th>Installs</th>\n",
       "      <th>Type</th>\n",
       "      <th>Price</th>\n",
       "      <th>Content_Rating</th>\n",
       "      <th>Genres</th>\n",
       "      <th>Last_Updated</th>\n",
       "      <th>Android_Ver</th>\n",
       "    </tr>\n",
       "  </thead>\n",
       "  <tbody>\n",
       "    <tr>\n",
       "      <th>21</th>\n",
       "      <td>KBA-EZ Health Guide</td>\n",
       "      <td>MEDICAL</td>\n",
       "      <td>5.00</td>\n",
       "      <td>4</td>\n",
       "      <td>25.00</td>\n",
       "      <td>1</td>\n",
       "      <td>Free</td>\n",
       "      <td>0</td>\n",
       "      <td>Everyone</td>\n",
       "      <td>Medical</td>\n",
       "      <td>August 2, 2018</td>\n",
       "      <td>4.0.3 and up</td>\n",
       "    </tr>\n",
       "  </tbody>\n",
       "</table>\n",
       "</div>"
      ],
      "text/plain": [
       "                    App Category  Rating  Reviews  Size_MBs Installs  Type  \\\n",
       "21  KBA-EZ Health Guide  MEDICAL    5.00        4     25.00        1  Free   \n",
       "\n",
       "   Price Content_Rating   Genres    Last_Updated   Android_Ver  \n",
       "21     0       Everyone  Medical  August 2, 2018  4.0.3 and up  "
      ]
     },
     "execution_count": 140,
     "metadata": {},
     "output_type": "execute_result"
    }
   ],
   "source": [
    "df_apps_clean.head(1)"
   ]
  },
  {
   "cell_type": "markdown",
   "metadata": {
    "id": "RoPpW37xdiUm"
   },
   "source": [
    "# Numeric Type Conversion: Examine the Number of Installs\n",
    "\n",
    "**Challenge**: How many apps had over 1 billion (that's right - BILLION) installations? How many apps just had a single install? \n",
    "\n",
    "Check the datatype of the Installs column.\n",
    "\n",
    "Count the number of apps at each level of installations. \n",
    "\n",
    "Convert the number of installations (the Installs column) to a numeric data type. Hint: this is a 2-step process. You'll have make sure you remove non-numeric characters first. "
   ]
  },
  {
   "cell_type": "code",
   "execution_count": 141,
   "metadata": {
    "id": "uTNyWsPboJLq"
   },
   "outputs": [
    {
     "name": "stderr",
     "output_type": "stream",
     "text": [
      "C:\\Users\\PC\\AppData\\Local\\Temp\\ipykernel_23596\\72518588.py:3: SettingWithCopyWarning:\n",
      "\n",
      "\n",
      "A value is trying to be set on a copy of a slice from a DataFrame.\n",
      "Try using .loc[row_indexer,col_indexer] = value instead\n",
      "\n",
      "See the caveats in the documentation: https://pandas.pydata.org/pandas-docs/stable/user_guide/indexing.html#returning-a-view-versus-a-copy\n",
      "\n",
      "C:\\Users\\PC\\AppData\\Local\\Temp\\ipykernel_23596\\72518588.py:4: SettingWithCopyWarning:\n",
      "\n",
      "\n",
      "A value is trying to be set on a copy of a slice from a DataFrame.\n",
      "Try using .loc[row_indexer,col_indexer] = value instead\n",
      "\n",
      "See the caveats in the documentation: https://pandas.pydata.org/pandas-docs/stable/user_guide/indexing.html#returning-a-view-versus-a-copy\n",
      "\n"
     ]
    },
    {
     "data": {
      "text/html": [
       "<div>\n",
       "<style scoped>\n",
       "    .dataframe tbody tr th:only-of-type {\n",
       "        vertical-align: middle;\n",
       "    }\n",
       "\n",
       "    .dataframe tbody tr th {\n",
       "        vertical-align: top;\n",
       "    }\n",
       "\n",
       "    .dataframe thead th {\n",
       "        text-align: right;\n",
       "    }\n",
       "</style>\n",
       "<table border=\"1\" class=\"dataframe\">\n",
       "  <thead>\n",
       "    <tr style=\"text-align: right;\">\n",
       "      <th></th>\n",
       "      <th>App</th>\n",
       "      <th>Category</th>\n",
       "      <th>Rating</th>\n",
       "      <th>Reviews</th>\n",
       "      <th>Size_MBs</th>\n",
       "      <th>Installs</th>\n",
       "      <th>Type</th>\n",
       "      <th>Price</th>\n",
       "      <th>Content_Rating</th>\n",
       "      <th>Genres</th>\n",
       "      <th>Last_Updated</th>\n",
       "      <th>Android_Ver</th>\n",
       "    </tr>\n",
       "  </thead>\n",
       "  <tbody>\n",
       "    <tr>\n",
       "      <th>21</th>\n",
       "      <td>KBA-EZ Health Guide</td>\n",
       "      <td>MEDICAL</td>\n",
       "      <td>5.00</td>\n",
       "      <td>4</td>\n",
       "      <td>25.00</td>\n",
       "      <td>1</td>\n",
       "      <td>Free</td>\n",
       "      <td>0</td>\n",
       "      <td>Everyone</td>\n",
       "      <td>Medical</td>\n",
       "      <td>August 2, 2018</td>\n",
       "      <td>4.0.3 and up</td>\n",
       "    </tr>\n",
       "    <tr>\n",
       "      <th>28</th>\n",
       "      <td>Ra Ga Ba</td>\n",
       "      <td>GAME</td>\n",
       "      <td>5.00</td>\n",
       "      <td>2</td>\n",
       "      <td>20.00</td>\n",
       "      <td>1</td>\n",
       "      <td>Paid</td>\n",
       "      <td>$1.49</td>\n",
       "      <td>Everyone</td>\n",
       "      <td>Arcade</td>\n",
       "      <td>February 8, 2017</td>\n",
       "      <td>2.3 and up</td>\n",
       "    </tr>\n",
       "    <tr>\n",
       "      <th>47</th>\n",
       "      <td>Mu.F.O.</td>\n",
       "      <td>GAME</td>\n",
       "      <td>5.00</td>\n",
       "      <td>2</td>\n",
       "      <td>16.00</td>\n",
       "      <td>1</td>\n",
       "      <td>Paid</td>\n",
       "      <td>$0.99</td>\n",
       "      <td>Everyone</td>\n",
       "      <td>Arcade</td>\n",
       "      <td>March 3, 2017</td>\n",
       "      <td>2.3 and up</td>\n",
       "    </tr>\n",
       "    <tr>\n",
       "      <th>82</th>\n",
       "      <td>Brick Breaker BR</td>\n",
       "      <td>GAME</td>\n",
       "      <td>5.00</td>\n",
       "      <td>7</td>\n",
       "      <td>19.00</td>\n",
       "      <td>5</td>\n",
       "      <td>Free</td>\n",
       "      <td>0</td>\n",
       "      <td>Everyone</td>\n",
       "      <td>Arcade</td>\n",
       "      <td>July 23, 2018</td>\n",
       "      <td>4.1 and up</td>\n",
       "    </tr>\n",
       "    <tr>\n",
       "      <th>99</th>\n",
       "      <td>Anatomy &amp; Physiology Vocabulary Exam Review App</td>\n",
       "      <td>MEDICAL</td>\n",
       "      <td>5.00</td>\n",
       "      <td>1</td>\n",
       "      <td>4.60</td>\n",
       "      <td>5</td>\n",
       "      <td>Free</td>\n",
       "      <td>0</td>\n",
       "      <td>Everyone</td>\n",
       "      <td>Medical</td>\n",
       "      <td>August 2, 2018</td>\n",
       "      <td>4.0 and up</td>\n",
       "    </tr>\n",
       "    <tr>\n",
       "      <th>...</th>\n",
       "      <td>...</td>\n",
       "      <td>...</td>\n",
       "      <td>...</td>\n",
       "      <td>...</td>\n",
       "      <td>...</td>\n",
       "      <td>...</td>\n",
       "      <td>...</td>\n",
       "      <td>...</td>\n",
       "      <td>...</td>\n",
       "      <td>...</td>\n",
       "      <td>...</td>\n",
       "      <td>...</td>\n",
       "    </tr>\n",
       "    <tr>\n",
       "      <th>10824</th>\n",
       "      <td>Google Drive</td>\n",
       "      <td>PRODUCTIVITY</td>\n",
       "      <td>4.40</td>\n",
       "      <td>2731171</td>\n",
       "      <td>4.00</td>\n",
       "      <td>1000000000</td>\n",
       "      <td>Free</td>\n",
       "      <td>0</td>\n",
       "      <td>Everyone</td>\n",
       "      <td>Productivity</td>\n",
       "      <td>August 6, 2018</td>\n",
       "      <td>Varies with device</td>\n",
       "    </tr>\n",
       "    <tr>\n",
       "      <th>10828</th>\n",
       "      <td>YouTube</td>\n",
       "      <td>VIDEO_PLAYERS</td>\n",
       "      <td>4.30</td>\n",
       "      <td>25655305</td>\n",
       "      <td>4.65</td>\n",
       "      <td>1000000000</td>\n",
       "      <td>Free</td>\n",
       "      <td>0</td>\n",
       "      <td>Teen</td>\n",
       "      <td>Video Players &amp; Editors</td>\n",
       "      <td>August 2, 2018</td>\n",
       "      <td>Varies with device</td>\n",
       "    </tr>\n",
       "    <tr>\n",
       "      <th>10829</th>\n",
       "      <td>Google Play Movies &amp; TV</td>\n",
       "      <td>VIDEO_PLAYERS</td>\n",
       "      <td>3.70</td>\n",
       "      <td>906384</td>\n",
       "      <td>4.65</td>\n",
       "      <td>1000000000</td>\n",
       "      <td>Free</td>\n",
       "      <td>0</td>\n",
       "      <td>Teen</td>\n",
       "      <td>Video Players &amp; Editors</td>\n",
       "      <td>August 6, 2018</td>\n",
       "      <td>Varies with device</td>\n",
       "    </tr>\n",
       "    <tr>\n",
       "      <th>10831</th>\n",
       "      <td>Google News</td>\n",
       "      <td>NEWS_AND_MAGAZINES</td>\n",
       "      <td>3.90</td>\n",
       "      <td>877635</td>\n",
       "      <td>13.00</td>\n",
       "      <td>1000000000</td>\n",
       "      <td>Free</td>\n",
       "      <td>0</td>\n",
       "      <td>Teen</td>\n",
       "      <td>News &amp; Magazines</td>\n",
       "      <td>August 1, 2018</td>\n",
       "      <td>4.4 and up</td>\n",
       "    </tr>\n",
       "    <tr>\n",
       "      <th>10835</th>\n",
       "      <td>Subway Surfers</td>\n",
       "      <td>GAME</td>\n",
       "      <td>4.50</td>\n",
       "      <td>27722264</td>\n",
       "      <td>76.00</td>\n",
       "      <td>1000000000</td>\n",
       "      <td>Free</td>\n",
       "      <td>0</td>\n",
       "      <td>Everyone 10+</td>\n",
       "      <td>Arcade</td>\n",
       "      <td>July 12, 2018</td>\n",
       "      <td>4.1 and up</td>\n",
       "    </tr>\n",
       "  </tbody>\n",
       "</table>\n",
       "<p>8196 rows × 12 columns</p>\n",
       "</div>"
      ],
      "text/plain": [
       "                                                   App            Category  \\\n",
       "21                                 KBA-EZ Health Guide             MEDICAL   \n",
       "28                                            Ra Ga Ba                GAME   \n",
       "47                                             Mu.F.O.                GAME   \n",
       "82                                    Brick Breaker BR                GAME   \n",
       "99     Anatomy & Physiology Vocabulary Exam Review App             MEDICAL   \n",
       "...                                                ...                 ...   \n",
       "10824                                     Google Drive        PRODUCTIVITY   \n",
       "10828                                          YouTube       VIDEO_PLAYERS   \n",
       "10829                          Google Play Movies & TV       VIDEO_PLAYERS   \n",
       "10831                                      Google News  NEWS_AND_MAGAZINES   \n",
       "10835                                   Subway Surfers                GAME   \n",
       "\n",
       "       Rating   Reviews  Size_MBs    Installs  Type  Price Content_Rating  \\\n",
       "21       5.00         4     25.00           1  Free      0       Everyone   \n",
       "28       5.00         2     20.00           1  Paid  $1.49       Everyone   \n",
       "47       5.00         2     16.00           1  Paid  $0.99       Everyone   \n",
       "82       5.00         7     19.00           5  Free      0       Everyone   \n",
       "99       5.00         1      4.60           5  Free      0       Everyone   \n",
       "...       ...       ...       ...         ...   ...    ...            ...   \n",
       "10824    4.40   2731171      4.00  1000000000  Free      0       Everyone   \n",
       "10828    4.30  25655305      4.65  1000000000  Free      0           Teen   \n",
       "10829    3.70    906384      4.65  1000000000  Free      0           Teen   \n",
       "10831    3.90    877635     13.00  1000000000  Free      0           Teen   \n",
       "10835    4.50  27722264     76.00  1000000000  Free      0   Everyone 10+   \n",
       "\n",
       "                        Genres      Last_Updated         Android_Ver  \n",
       "21                     Medical    August 2, 2018        4.0.3 and up  \n",
       "28                      Arcade  February 8, 2017          2.3 and up  \n",
       "47                      Arcade     March 3, 2017          2.3 and up  \n",
       "82                      Arcade     July 23, 2018          4.1 and up  \n",
       "99                     Medical    August 2, 2018          4.0 and up  \n",
       "...                        ...               ...                 ...  \n",
       "10824             Productivity    August 6, 2018  Varies with device  \n",
       "10828  Video Players & Editors    August 2, 2018  Varies with device  \n",
       "10829  Video Players & Editors    August 6, 2018  Varies with device  \n",
       "10831         News & Magazines    August 1, 2018          4.4 and up  \n",
       "10835                   Arcade     July 12, 2018          4.1 and up  \n",
       "\n",
       "[8196 rows x 12 columns]"
      ]
     },
     "execution_count": 141,
     "metadata": {},
     "output_type": "execute_result"
    }
   ],
   "source": [
    "df_apps_clean[\"Installs\"].dtype\n",
    "df_apps_clean.groupby(\"Installs\")[\"App\"].count()\n",
    "df_apps_clean[\"Installs\"] = df_apps_clean[\"Installs\"].astype(\"str\").str.replace(\",\",\"\") #Converts the series into str, \".str\" allows you to modify individual elemtns\n",
    "df_apps_clean[\"Installs\"] = pd.to_numeric(df_apps_clean[\"Installs\"])\n",
    "df_apps_clean"
   ]
  },
  {
   "cell_type": "code",
   "execution_count": null,
   "metadata": {
    "id": "yzR49fYcoJRI"
   },
   "outputs": [],
   "source": []
  },
  {
   "cell_type": "code",
   "execution_count": null,
   "metadata": {
    "id": "cFjptR-JoJOE"
   },
   "outputs": [],
   "source": []
  },
  {
   "cell_type": "code",
   "execution_count": 145,
   "metadata": {
    "id": "8AMmxKHgoJGT"
   },
   "outputs": [
    {
     "data": {
      "text/html": [
       "<div>\n",
       "<style scoped>\n",
       "    .dataframe tbody tr th:only-of-type {\n",
       "        vertical-align: middle;\n",
       "    }\n",
       "\n",
       "    .dataframe tbody tr th {\n",
       "        vertical-align: top;\n",
       "    }\n",
       "\n",
       "    .dataframe thead th {\n",
       "        text-align: right;\n",
       "    }\n",
       "</style>\n",
       "<table border=\"1\" class=\"dataframe\">\n",
       "  <thead>\n",
       "    <tr style=\"text-align: right;\">\n",
       "      <th></th>\n",
       "      <th>App</th>\n",
       "      <th>Category</th>\n",
       "      <th>Rating</th>\n",
       "      <th>Reviews</th>\n",
       "      <th>Size_MBs</th>\n",
       "      <th>Installs</th>\n",
       "      <th>Type</th>\n",
       "      <th>Price</th>\n",
       "      <th>Content_Rating</th>\n",
       "      <th>Genres</th>\n",
       "      <th>Last_Updated</th>\n",
       "      <th>Android_Ver</th>\n",
       "    </tr>\n",
       "  </thead>\n",
       "  <tbody>\n",
       "    <tr>\n",
       "      <th>3946</th>\n",
       "      <td>I'm Rich - Trump Edition</td>\n",
       "      <td>LIFESTYLE</td>\n",
       "      <td>3.60</td>\n",
       "      <td>275</td>\n",
       "      <td>7.30</td>\n",
       "      <td>10000</td>\n",
       "      <td>Paid</td>\n",
       "      <td>400.00</td>\n",
       "      <td>Everyone</td>\n",
       "      <td>Lifestyle</td>\n",
       "      <td>May 3, 2018</td>\n",
       "      <td>4.1 and up</td>\n",
       "    </tr>\n",
       "    <tr>\n",
       "      <th>3554</th>\n",
       "      <td>💎 I'm rich</td>\n",
       "      <td>LIFESTYLE</td>\n",
       "      <td>3.80</td>\n",
       "      <td>718</td>\n",
       "      <td>26.00</td>\n",
       "      <td>10000</td>\n",
       "      <td>Paid</td>\n",
       "      <td>399.99</td>\n",
       "      <td>Everyone</td>\n",
       "      <td>Lifestyle</td>\n",
       "      <td>March 11, 2018</td>\n",
       "      <td>4.4 and up</td>\n",
       "    </tr>\n",
       "    <tr>\n",
       "      <th>4606</th>\n",
       "      <td>I Am Rich Premium</td>\n",
       "      <td>FINANCE</td>\n",
       "      <td>4.10</td>\n",
       "      <td>1867</td>\n",
       "      <td>4.70</td>\n",
       "      <td>50000</td>\n",
       "      <td>Paid</td>\n",
       "      <td>399.99</td>\n",
       "      <td>Everyone</td>\n",
       "      <td>Finance</td>\n",
       "      <td>November 12, 2017</td>\n",
       "      <td>4.0 and up</td>\n",
       "    </tr>\n",
       "    <tr>\n",
       "      <th>3221</th>\n",
       "      <td>I am Rich Plus</td>\n",
       "      <td>FAMILY</td>\n",
       "      <td>4.00</td>\n",
       "      <td>856</td>\n",
       "      <td>8.70</td>\n",
       "      <td>10000</td>\n",
       "      <td>Paid</td>\n",
       "      <td>399.99</td>\n",
       "      <td>Everyone</td>\n",
       "      <td>Entertainment</td>\n",
       "      <td>May 19, 2018</td>\n",
       "      <td>4.4 and up</td>\n",
       "    </tr>\n",
       "    <tr>\n",
       "      <th>5765</th>\n",
       "      <td>I am rich</td>\n",
       "      <td>LIFESTYLE</td>\n",
       "      <td>3.80</td>\n",
       "      <td>3547</td>\n",
       "      <td>1.80</td>\n",
       "      <td>100000</td>\n",
       "      <td>Paid</td>\n",
       "      <td>399.99</td>\n",
       "      <td>Everyone</td>\n",
       "      <td>Lifestyle</td>\n",
       "      <td>January 12, 2018</td>\n",
       "      <td>4.0.3 and up</td>\n",
       "    </tr>\n",
       "    <tr>\n",
       "      <th>...</th>\n",
       "      <td>...</td>\n",
       "      <td>...</td>\n",
       "      <td>...</td>\n",
       "      <td>...</td>\n",
       "      <td>...</td>\n",
       "      <td>...</td>\n",
       "      <td>...</td>\n",
       "      <td>...</td>\n",
       "      <td>...</td>\n",
       "      <td>...</td>\n",
       "      <td>...</td>\n",
       "      <td>...</td>\n",
       "    </tr>\n",
       "    <tr>\n",
       "      <th>10734</th>\n",
       "      <td>Facebook Lite</td>\n",
       "      <td>SOCIAL</td>\n",
       "      <td>4.30</td>\n",
       "      <td>8606259</td>\n",
       "      <td>5.30</td>\n",
       "      <td>500000000</td>\n",
       "      <td>Free</td>\n",
       "      <td>0.00</td>\n",
       "      <td>Teen</td>\n",
       "      <td>Social</td>\n",
       "      <td>August 1, 2018</td>\n",
       "      <td>Varies with device</td>\n",
       "    </tr>\n",
       "    <tr>\n",
       "      <th>10735</th>\n",
       "      <td>Snapchat</td>\n",
       "      <td>SOCIAL</td>\n",
       "      <td>4.00</td>\n",
       "      <td>17014787</td>\n",
       "      <td>5.30</td>\n",
       "      <td>500000000</td>\n",
       "      <td>Free</td>\n",
       "      <td>0.00</td>\n",
       "      <td>Teen</td>\n",
       "      <td>Social</td>\n",
       "      <td>July 30, 2018</td>\n",
       "      <td>Varies with device</td>\n",
       "    </tr>\n",
       "    <tr>\n",
       "      <th>10740</th>\n",
       "      <td>Google Translate</td>\n",
       "      <td>TOOLS</td>\n",
       "      <td>4.40</td>\n",
       "      <td>5745093</td>\n",
       "      <td>3.40</td>\n",
       "      <td>500000000</td>\n",
       "      <td>Free</td>\n",
       "      <td>0.00</td>\n",
       "      <td>Everyone</td>\n",
       "      <td>Tools</td>\n",
       "      <td>August 4, 2018</td>\n",
       "      <td>Varies with device</td>\n",
       "    </tr>\n",
       "    <tr>\n",
       "      <th>10741</th>\n",
       "      <td>Gboard - the Google Keyboard</td>\n",
       "      <td>TOOLS</td>\n",
       "      <td>4.20</td>\n",
       "      <td>1859115</td>\n",
       "      <td>3.40</td>\n",
       "      <td>500000000</td>\n",
       "      <td>Free</td>\n",
       "      <td>0.00</td>\n",
       "      <td>Everyone</td>\n",
       "      <td>Tools</td>\n",
       "      <td>July 31, 2018</td>\n",
       "      <td>Varies with device</td>\n",
       "    </tr>\n",
       "    <tr>\n",
       "      <th>82</th>\n",
       "      <td>Brick Breaker BR</td>\n",
       "      <td>GAME</td>\n",
       "      <td>5.00</td>\n",
       "      <td>7</td>\n",
       "      <td>19.00</td>\n",
       "      <td>5</td>\n",
       "      <td>Free</td>\n",
       "      <td>0.00</td>\n",
       "      <td>Everyone</td>\n",
       "      <td>Arcade</td>\n",
       "      <td>July 23, 2018</td>\n",
       "      <td>4.1 and up</td>\n",
       "    </tr>\n",
       "  </tbody>\n",
       "</table>\n",
       "<p>8196 rows × 12 columns</p>\n",
       "</div>"
      ],
      "text/plain": [
       "                                App   Category  Rating   Reviews  Size_MBs  \\\n",
       "3946       I'm Rich - Trump Edition  LIFESTYLE    3.60       275      7.30   \n",
       "3554                     💎 I'm rich  LIFESTYLE    3.80       718     26.00   \n",
       "4606              I Am Rich Premium    FINANCE    4.10      1867      4.70   \n",
       "3221                 I am Rich Plus     FAMILY    4.00       856      8.70   \n",
       "5765                      I am rich  LIFESTYLE    3.80      3547      1.80   \n",
       "...                             ...        ...     ...       ...       ...   \n",
       "10734                 Facebook Lite     SOCIAL    4.30   8606259      5.30   \n",
       "10735                      Snapchat     SOCIAL    4.00  17014787      5.30   \n",
       "10740              Google Translate      TOOLS    4.40   5745093      3.40   \n",
       "10741  Gboard - the Google Keyboard      TOOLS    4.20   1859115      3.40   \n",
       "82                 Brick Breaker BR       GAME    5.00         7     19.00   \n",
       "\n",
       "        Installs  Type  Price Content_Rating         Genres  \\\n",
       "3946       10000  Paid 400.00       Everyone      Lifestyle   \n",
       "3554       10000  Paid 399.99       Everyone      Lifestyle   \n",
       "4606       50000  Paid 399.99       Everyone        Finance   \n",
       "3221       10000  Paid 399.99       Everyone  Entertainment   \n",
       "5765      100000  Paid 399.99       Everyone      Lifestyle   \n",
       "...          ...   ...    ...            ...            ...   \n",
       "10734  500000000  Free   0.00           Teen         Social   \n",
       "10735  500000000  Free   0.00           Teen         Social   \n",
       "10740  500000000  Free   0.00       Everyone          Tools   \n",
       "10741  500000000  Free   0.00       Everyone          Tools   \n",
       "82             5  Free   0.00       Everyone         Arcade   \n",
       "\n",
       "            Last_Updated         Android_Ver  \n",
       "3946         May 3, 2018          4.1 and up  \n",
       "3554      March 11, 2018          4.4 and up  \n",
       "4606   November 12, 2017          4.0 and up  \n",
       "3221        May 19, 2018          4.4 and up  \n",
       "5765    January 12, 2018        4.0.3 and up  \n",
       "...                  ...                 ...  \n",
       "10734     August 1, 2018  Varies with device  \n",
       "10735      July 30, 2018  Varies with device  \n",
       "10740     August 4, 2018  Varies with device  \n",
       "10741      July 31, 2018  Varies with device  \n",
       "82         July 23, 2018          4.1 and up  \n",
       "\n",
       "[8196 rows x 12 columns]"
      ]
     },
     "execution_count": 145,
     "metadata": {},
     "output_type": "execute_result"
    }
   ],
   "source": [
    "df_apps_clean.sort_values(\"Price\",ascending=False)"
   ]
  },
  {
   "cell_type": "markdown",
   "metadata": {
    "id": "7T4sfNpFdiUv"
   },
   "source": [
    "# Find the Most Expensive Apps, Filter out the Junk, and Calculate a (ballpark) Sales Revenue Estimate\n",
    "\n",
    "Let's examine the Price column more closely.\n",
    "\n",
    "**Challenge**: Convert the price column to numeric data. Then investigate the top 20 most expensive apps in the dataset.\n",
    "\n",
    "Remove all apps that cost more than $250 from the `df_apps_clean` DataFrame.\n",
    "\n",
    "Add a column called 'Revenue_Estimate' to the DataFrame. This column should hold the price of the app times the number of installs. What are the top 10 highest grossing paid apps according to this estimate? Out of the top 10 highest grossing paid apps, how many are games?\n"
   ]
  },
  {
   "cell_type": "code",
   "execution_count": null,
   "metadata": {
    "id": "CqhX2WCJoQEp"
   },
   "outputs": [
    {
     "data": {
      "text/html": [
       "<div>\n",
       "<style scoped>\n",
       "    .dataframe tbody tr th:only-of-type {\n",
       "        vertical-align: middle;\n",
       "    }\n",
       "\n",
       "    .dataframe tbody tr th {\n",
       "        vertical-align: top;\n",
       "    }\n",
       "\n",
       "    .dataframe thead th {\n",
       "        text-align: right;\n",
       "    }\n",
       "</style>\n",
       "<table border=\"1\" class=\"dataframe\">\n",
       "  <thead>\n",
       "    <tr style=\"text-align: right;\">\n",
       "      <th></th>\n",
       "      <th>App</th>\n",
       "      <th>Category</th>\n",
       "      <th>Rating</th>\n",
       "      <th>Reviews</th>\n",
       "      <th>Size_MBs</th>\n",
       "      <th>Installs</th>\n",
       "      <th>Type</th>\n",
       "      <th>Price</th>\n",
       "      <th>Content_Rating</th>\n",
       "      <th>Genres</th>\n",
       "      <th>Last_Updated</th>\n",
       "      <th>Android_Ver</th>\n",
       "      <th>Revenue_Estimate</th>\n",
       "    </tr>\n",
       "  </thead>\n",
       "  <tbody>\n",
       "    <tr>\n",
       "      <th>2281</th>\n",
       "      <td>Vargo Anesthesia Mega App</td>\n",
       "      <td>MEDICAL</td>\n",
       "      <td>4.60</td>\n",
       "      <td>92</td>\n",
       "      <td>32.00</td>\n",
       "      <td>1000</td>\n",
       "      <td>Paid</td>\n",
       "      <td>79.99</td>\n",
       "      <td>Everyone</td>\n",
       "      <td>Medical</td>\n",
       "      <td>June 18, 2018</td>\n",
       "      <td>4.0.3 and up</td>\n",
       "      <td>79,990.00</td>\n",
       "    </tr>\n",
       "    <tr>\n",
       "      <th>1407</th>\n",
       "      <td>LTC AS Legal</td>\n",
       "      <td>MEDICAL</td>\n",
       "      <td>4.00</td>\n",
       "      <td>6</td>\n",
       "      <td>1.30</td>\n",
       "      <td>100</td>\n",
       "      <td>Paid</td>\n",
       "      <td>39.99</td>\n",
       "      <td>Everyone</td>\n",
       "      <td>Medical</td>\n",
       "      <td>April 4, 2018</td>\n",
       "      <td>4.1 and up</td>\n",
       "      <td>3,999.00</td>\n",
       "    </tr>\n",
       "    <tr>\n",
       "      <th>2629</th>\n",
       "      <td>I am Rich Person</td>\n",
       "      <td>LIFESTYLE</td>\n",
       "      <td>4.20</td>\n",
       "      <td>134</td>\n",
       "      <td>1.80</td>\n",
       "      <td>1000</td>\n",
       "      <td>Paid</td>\n",
       "      <td>37.99</td>\n",
       "      <td>Everyone</td>\n",
       "      <td>Lifestyle</td>\n",
       "      <td>July 18, 2017</td>\n",
       "      <td>4.0.3 and up</td>\n",
       "      <td>37,990.00</td>\n",
       "    </tr>\n",
       "    <tr>\n",
       "      <th>2481</th>\n",
       "      <td>A Manual of Acupuncture</td>\n",
       "      <td>MEDICAL</td>\n",
       "      <td>3.50</td>\n",
       "      <td>214</td>\n",
       "      <td>68.00</td>\n",
       "      <td>1000</td>\n",
       "      <td>Paid</td>\n",
       "      <td>33.99</td>\n",
       "      <td>Everyone</td>\n",
       "      <td>Medical</td>\n",
       "      <td>October 2, 2017</td>\n",
       "      <td>4.0 and up</td>\n",
       "      <td>33,990.00</td>\n",
       "    </tr>\n",
       "    <tr>\n",
       "      <th>4264</th>\n",
       "      <td>Golfshot Plus: Golf GPS</td>\n",
       "      <td>SPORTS</td>\n",
       "      <td>4.10</td>\n",
       "      <td>3387</td>\n",
       "      <td>25.00</td>\n",
       "      <td>50000</td>\n",
       "      <td>Paid</td>\n",
       "      <td>29.99</td>\n",
       "      <td>Everyone</td>\n",
       "      <td>Sports</td>\n",
       "      <td>July 11, 2018</td>\n",
       "      <td>4.1 and up</td>\n",
       "      <td>1,499,500.00</td>\n",
       "    </tr>\n",
       "    <tr>\n",
       "      <th>...</th>\n",
       "      <td>...</td>\n",
       "      <td>...</td>\n",
       "      <td>...</td>\n",
       "      <td>...</td>\n",
       "      <td>...</td>\n",
       "      <td>...</td>\n",
       "      <td>...</td>\n",
       "      <td>...</td>\n",
       "      <td>...</td>\n",
       "      <td>...</td>\n",
       "      <td>...</td>\n",
       "      <td>...</td>\n",
       "      <td>...</td>\n",
       "    </tr>\n",
       "    <tr>\n",
       "      <th>10824</th>\n",
       "      <td>Google Drive</td>\n",
       "      <td>PRODUCTIVITY</td>\n",
       "      <td>4.40</td>\n",
       "      <td>2731171</td>\n",
       "      <td>4.00</td>\n",
       "      <td>1000000000</td>\n",
       "      <td>Free</td>\n",
       "      <td>0.00</td>\n",
       "      <td>Everyone</td>\n",
       "      <td>Productivity</td>\n",
       "      <td>August 6, 2018</td>\n",
       "      <td>Varies with device</td>\n",
       "      <td>0.00</td>\n",
       "    </tr>\n",
       "    <tr>\n",
       "      <th>10828</th>\n",
       "      <td>YouTube</td>\n",
       "      <td>VIDEO_PLAYERS</td>\n",
       "      <td>4.30</td>\n",
       "      <td>25655305</td>\n",
       "      <td>4.65</td>\n",
       "      <td>1000000000</td>\n",
       "      <td>Free</td>\n",
       "      <td>0.00</td>\n",
       "      <td>Teen</td>\n",
       "      <td>Video Players &amp; Editors</td>\n",
       "      <td>August 2, 2018</td>\n",
       "      <td>Varies with device</td>\n",
       "      <td>0.00</td>\n",
       "    </tr>\n",
       "    <tr>\n",
       "      <th>10829</th>\n",
       "      <td>Google Play Movies &amp; TV</td>\n",
       "      <td>VIDEO_PLAYERS</td>\n",
       "      <td>3.70</td>\n",
       "      <td>906384</td>\n",
       "      <td>4.65</td>\n",
       "      <td>1000000000</td>\n",
       "      <td>Free</td>\n",
       "      <td>0.00</td>\n",
       "      <td>Teen</td>\n",
       "      <td>Video Players &amp; Editors</td>\n",
       "      <td>August 6, 2018</td>\n",
       "      <td>Varies with device</td>\n",
       "      <td>0.00</td>\n",
       "    </tr>\n",
       "    <tr>\n",
       "      <th>10831</th>\n",
       "      <td>Google News</td>\n",
       "      <td>NEWS_AND_MAGAZINES</td>\n",
       "      <td>3.90</td>\n",
       "      <td>877635</td>\n",
       "      <td>13.00</td>\n",
       "      <td>1000000000</td>\n",
       "      <td>Free</td>\n",
       "      <td>0.00</td>\n",
       "      <td>Teen</td>\n",
       "      <td>News &amp; Magazines</td>\n",
       "      <td>August 1, 2018</td>\n",
       "      <td>4.4 and up</td>\n",
       "      <td>0.00</td>\n",
       "    </tr>\n",
       "    <tr>\n",
       "      <th>9270</th>\n",
       "      <td>Real Estate, Car, Shopping and Others</td>\n",
       "      <td>SHOPPING</td>\n",
       "      <td>4.30</td>\n",
       "      <td>568273</td>\n",
       "      <td>9.30</td>\n",
       "      <td>10000000</td>\n",
       "      <td>Free</td>\n",
       "      <td>0.00</td>\n",
       "      <td>Everyone</td>\n",
       "      <td>Shopping</td>\n",
       "      <td>August 4, 2018</td>\n",
       "      <td>Varies with device</td>\n",
       "      <td>0.00</td>\n",
       "    </tr>\n",
       "  </tbody>\n",
       "</table>\n",
       "<p>8181 rows × 13 columns</p>\n",
       "</div>"
      ],
      "text/plain": [
       "                                         App            Category  Rating  \\\n",
       "2281               Vargo Anesthesia Mega App             MEDICAL    4.60   \n",
       "1407                            LTC AS Legal             MEDICAL    4.00   \n",
       "2629                        I am Rich Person           LIFESTYLE    4.20   \n",
       "2481                 A Manual of Acupuncture             MEDICAL    3.50   \n",
       "4264                 Golfshot Plus: Golf GPS              SPORTS    4.10   \n",
       "...                                      ...                 ...     ...   \n",
       "10824                           Google Drive        PRODUCTIVITY    4.40   \n",
       "10828                                YouTube       VIDEO_PLAYERS    4.30   \n",
       "10829                Google Play Movies & TV       VIDEO_PLAYERS    3.70   \n",
       "10831                            Google News  NEWS_AND_MAGAZINES    3.90   \n",
       "9270   Real Estate, Car, Shopping and Others            SHOPPING    4.30   \n",
       "\n",
       "        Reviews  Size_MBs    Installs  Type  Price Content_Rating  \\\n",
       "2281         92     32.00        1000  Paid  79.99       Everyone   \n",
       "1407          6      1.30         100  Paid  39.99       Everyone   \n",
       "2629        134      1.80        1000  Paid  37.99       Everyone   \n",
       "2481        214     68.00        1000  Paid  33.99       Everyone   \n",
       "4264       3387     25.00       50000  Paid  29.99       Everyone   \n",
       "...         ...       ...         ...   ...    ...            ...   \n",
       "10824   2731171      4.00  1000000000  Free   0.00       Everyone   \n",
       "10828  25655305      4.65  1000000000  Free   0.00           Teen   \n",
       "10829    906384      4.65  1000000000  Free   0.00           Teen   \n",
       "10831    877635     13.00  1000000000  Free   0.00           Teen   \n",
       "9270     568273      9.30    10000000  Free   0.00       Everyone   \n",
       "\n",
       "                        Genres     Last_Updated         Android_Ver  \\\n",
       "2281                   Medical    June 18, 2018        4.0.3 and up   \n",
       "1407                   Medical    April 4, 2018          4.1 and up   \n",
       "2629                 Lifestyle    July 18, 2017        4.0.3 and up   \n",
       "2481                   Medical  October 2, 2017          4.0 and up   \n",
       "4264                    Sports    July 11, 2018          4.1 and up   \n",
       "...                        ...              ...                 ...   \n",
       "10824             Productivity   August 6, 2018  Varies with device   \n",
       "10828  Video Players & Editors   August 2, 2018  Varies with device   \n",
       "10829  Video Players & Editors   August 6, 2018  Varies with device   \n",
       "10831         News & Magazines   August 1, 2018          4.4 and up   \n",
       "9270                  Shopping   August 4, 2018  Varies with device   \n",
       "\n",
       "       Revenue_Estimate  \n",
       "2281          79,990.00  \n",
       "1407           3,999.00  \n",
       "2629          37,990.00  \n",
       "2481          33,990.00  \n",
       "4264       1,499,500.00  \n",
       "...                 ...  \n",
       "10824              0.00  \n",
       "10828              0.00  \n",
       "10829              0.00  \n",
       "10831              0.00  \n",
       "9270               0.00  \n",
       "\n",
       "[8181 rows x 13 columns]"
      ]
     },
     "execution_count": 150,
     "metadata": {},
     "output_type": "execute_result"
    }
   ],
   "source": [
    "df_apps_clean[\"Price\"] = df_apps_clean[\"Price\"].astype(str)\n",
    "df_apps_clean[\"Price\"] = df_apps_clean[\"Price\"].str.replace(\"$\",\"\")\n",
    "df_apps_clean[\"Price\"] = pd.to_numeric(df_apps_clean[\"Price\"])\n",
    "df_apps_clean = df_apps_clean[df_apps_clean[\"Price\"] <= 250]\n",
    "# df_apps_clean.insert(len(df_apps_clean.columns),column=\"Revenue_Estimate\",value=df_apps_clean[\"Price\"] * df_apps_clean[\"Installs\"])"
   ]
  },
  {
   "cell_type": "markdown",
   "metadata": {
    "id": "Rgposh-CdiU4"
   },
   "source": [
    "### The most expensive apps sub $250"
   ]
  },
  {
   "cell_type": "code",
   "execution_count": 163,
   "metadata": {
    "id": "c8_n8z8XoUML"
   },
   "outputs": [
    {
     "data": {
      "text/html": [
       "<div>\n",
       "<style scoped>\n",
       "    .dataframe tbody tr th:only-of-type {\n",
       "        vertical-align: middle;\n",
       "    }\n",
       "\n",
       "    .dataframe tbody tr th {\n",
       "        vertical-align: top;\n",
       "    }\n",
       "\n",
       "    .dataframe thead th {\n",
       "        text-align: right;\n",
       "    }\n",
       "</style>\n",
       "<table border=\"1\" class=\"dataframe\">\n",
       "  <thead>\n",
       "    <tr style=\"text-align: right;\">\n",
       "      <th></th>\n",
       "      <th>App</th>\n",
       "      <th>Category</th>\n",
       "      <th>Rating</th>\n",
       "      <th>Reviews</th>\n",
       "      <th>Size_MBs</th>\n",
       "      <th>Installs</th>\n",
       "      <th>Type</th>\n",
       "      <th>Price</th>\n",
       "      <th>Content_Rating</th>\n",
       "      <th>Genres</th>\n",
       "      <th>Last_Updated</th>\n",
       "      <th>Android_Ver</th>\n",
       "      <th>Revenue_Estimate</th>\n",
       "    </tr>\n",
       "  </thead>\n",
       "  <tbody>\n",
       "    <tr>\n",
       "      <th>2281</th>\n",
       "      <td>Vargo Anesthesia Mega App</td>\n",
       "      <td>MEDICAL</td>\n",
       "      <td>4.60</td>\n",
       "      <td>92</td>\n",
       "      <td>32.00</td>\n",
       "      <td>1000</td>\n",
       "      <td>Paid</td>\n",
       "      <td>79.99</td>\n",
       "      <td>Everyone</td>\n",
       "      <td>Medical</td>\n",
       "      <td>June 18, 2018</td>\n",
       "      <td>4.0.3 and up</td>\n",
       "      <td>79,990.00</td>\n",
       "    </tr>\n",
       "    <tr>\n",
       "      <th>1407</th>\n",
       "      <td>LTC AS Legal</td>\n",
       "      <td>MEDICAL</td>\n",
       "      <td>4.00</td>\n",
       "      <td>6</td>\n",
       "      <td>1.30</td>\n",
       "      <td>100</td>\n",
       "      <td>Paid</td>\n",
       "      <td>39.99</td>\n",
       "      <td>Everyone</td>\n",
       "      <td>Medical</td>\n",
       "      <td>April 4, 2018</td>\n",
       "      <td>4.1 and up</td>\n",
       "      <td>3,999.00</td>\n",
       "    </tr>\n",
       "    <tr>\n",
       "      <th>2629</th>\n",
       "      <td>I am Rich Person</td>\n",
       "      <td>LIFESTYLE</td>\n",
       "      <td>4.20</td>\n",
       "      <td>134</td>\n",
       "      <td>1.80</td>\n",
       "      <td>1000</td>\n",
       "      <td>Paid</td>\n",
       "      <td>37.99</td>\n",
       "      <td>Everyone</td>\n",
       "      <td>Lifestyle</td>\n",
       "      <td>July 18, 2017</td>\n",
       "      <td>4.0.3 and up</td>\n",
       "      <td>37,990.00</td>\n",
       "    </tr>\n",
       "    <tr>\n",
       "      <th>2481</th>\n",
       "      <td>A Manual of Acupuncture</td>\n",
       "      <td>MEDICAL</td>\n",
       "      <td>3.50</td>\n",
       "      <td>214</td>\n",
       "      <td>68.00</td>\n",
       "      <td>1000</td>\n",
       "      <td>Paid</td>\n",
       "      <td>33.99</td>\n",
       "      <td>Everyone</td>\n",
       "      <td>Medical</td>\n",
       "      <td>October 2, 2017</td>\n",
       "      <td>4.0 and up</td>\n",
       "      <td>33,990.00</td>\n",
       "    </tr>\n",
       "    <tr>\n",
       "      <th>4264</th>\n",
       "      <td>Golfshot Plus: Golf GPS</td>\n",
       "      <td>SPORTS</td>\n",
       "      <td>4.10</td>\n",
       "      <td>3387</td>\n",
       "      <td>25.00</td>\n",
       "      <td>50000</td>\n",
       "      <td>Paid</td>\n",
       "      <td>29.99</td>\n",
       "      <td>Everyone</td>\n",
       "      <td>Sports</td>\n",
       "      <td>July 11, 2018</td>\n",
       "      <td>4.1 and up</td>\n",
       "      <td>1,499,500.00</td>\n",
       "    </tr>\n",
       "    <tr>\n",
       "      <th>2207</th>\n",
       "      <td>EMT PASS</td>\n",
       "      <td>MEDICAL</td>\n",
       "      <td>3.40</td>\n",
       "      <td>51</td>\n",
       "      <td>2.40</td>\n",
       "      <td>1000</td>\n",
       "      <td>Paid</td>\n",
       "      <td>29.99</td>\n",
       "      <td>Everyone</td>\n",
       "      <td>Medical</td>\n",
       "      <td>October 22, 2014</td>\n",
       "      <td>4.0 and up</td>\n",
       "      <td>29,990.00</td>\n",
       "    </tr>\n",
       "    <tr>\n",
       "      <th>2463</th>\n",
       "      <td>PTA Content Master</td>\n",
       "      <td>MEDICAL</td>\n",
       "      <td>4.20</td>\n",
       "      <td>64</td>\n",
       "      <td>41.00</td>\n",
       "      <td>1000</td>\n",
       "      <td>Paid</td>\n",
       "      <td>29.99</td>\n",
       "      <td>Everyone</td>\n",
       "      <td>Medical</td>\n",
       "      <td>December 22, 2015</td>\n",
       "      <td>2.2 and up</td>\n",
       "      <td>29,990.00</td>\n",
       "    </tr>\n",
       "    <tr>\n",
       "      <th>504</th>\n",
       "      <td>AP Art History Flashcards</td>\n",
       "      <td>FAMILY</td>\n",
       "      <td>5.00</td>\n",
       "      <td>1</td>\n",
       "      <td>96.00</td>\n",
       "      <td>10</td>\n",
       "      <td>Paid</td>\n",
       "      <td>29.99</td>\n",
       "      <td>Mature 17+</td>\n",
       "      <td>Education</td>\n",
       "      <td>January 19, 2016</td>\n",
       "      <td>4.0 and up</td>\n",
       "      <td>299.90</td>\n",
       "    </tr>\n",
       "    <tr>\n",
       "      <th>3241</th>\n",
       "      <td>Muscle Premium - Human Anatomy, Kinesiology, B...</td>\n",
       "      <td>MEDICAL</td>\n",
       "      <td>4.20</td>\n",
       "      <td>168</td>\n",
       "      <td>25.00</td>\n",
       "      <td>10000</td>\n",
       "      <td>Paid</td>\n",
       "      <td>24.99</td>\n",
       "      <td>Everyone</td>\n",
       "      <td>Medical</td>\n",
       "      <td>August 11, 2017</td>\n",
       "      <td>4.4 and up</td>\n",
       "      <td>249,900.00</td>\n",
       "    </tr>\n",
       "    <tr>\n",
       "      <th>4772</th>\n",
       "      <td>Human Anatomy Atlas 2018: Complete 3D Human Body</td>\n",
       "      <td>MEDICAL</td>\n",
       "      <td>4.50</td>\n",
       "      <td>2921</td>\n",
       "      <td>25.00</td>\n",
       "      <td>100000</td>\n",
       "      <td>Paid</td>\n",
       "      <td>24.99</td>\n",
       "      <td>Everyone</td>\n",
       "      <td>Medical</td>\n",
       "      <td>May 25, 2018</td>\n",
       "      <td>5.0 and up</td>\n",
       "      <td>2,499,000.00</td>\n",
       "    </tr>\n",
       "  </tbody>\n",
       "</table>\n",
       "</div>"
      ],
      "text/plain": [
       "                                                    App   Category  Rating  \\\n",
       "2281                          Vargo Anesthesia Mega App    MEDICAL    4.60   \n",
       "1407                                       LTC AS Legal    MEDICAL    4.00   \n",
       "2629                                   I am Rich Person  LIFESTYLE    4.20   \n",
       "2481                            A Manual of Acupuncture    MEDICAL    3.50   \n",
       "4264                            Golfshot Plus: Golf GPS     SPORTS    4.10   \n",
       "2207                                           EMT PASS    MEDICAL    3.40   \n",
       "2463                                 PTA Content Master    MEDICAL    4.20   \n",
       "504                           AP Art History Flashcards     FAMILY    5.00   \n",
       "3241  Muscle Premium - Human Anatomy, Kinesiology, B...    MEDICAL    4.20   \n",
       "4772   Human Anatomy Atlas 2018: Complete 3D Human Body    MEDICAL    4.50   \n",
       "\n",
       "      Reviews  Size_MBs  Installs  Type  Price Content_Rating     Genres  \\\n",
       "2281       92     32.00      1000  Paid  79.99       Everyone    Medical   \n",
       "1407        6      1.30       100  Paid  39.99       Everyone    Medical   \n",
       "2629      134      1.80      1000  Paid  37.99       Everyone  Lifestyle   \n",
       "2481      214     68.00      1000  Paid  33.99       Everyone    Medical   \n",
       "4264     3387     25.00     50000  Paid  29.99       Everyone     Sports   \n",
       "2207       51      2.40      1000  Paid  29.99       Everyone    Medical   \n",
       "2463       64     41.00      1000  Paid  29.99       Everyone    Medical   \n",
       "504         1     96.00        10  Paid  29.99     Mature 17+  Education   \n",
       "3241      168     25.00     10000  Paid  24.99       Everyone    Medical   \n",
       "4772     2921     25.00    100000  Paid  24.99       Everyone    Medical   \n",
       "\n",
       "           Last_Updated   Android_Ver  Revenue_Estimate  \n",
       "2281      June 18, 2018  4.0.3 and up         79,990.00  \n",
       "1407      April 4, 2018    4.1 and up          3,999.00  \n",
       "2629      July 18, 2017  4.0.3 and up         37,990.00  \n",
       "2481    October 2, 2017    4.0 and up         33,990.00  \n",
       "4264      July 11, 2018    4.1 and up      1,499,500.00  \n",
       "2207   October 22, 2014    4.0 and up         29,990.00  \n",
       "2463  December 22, 2015    2.2 and up         29,990.00  \n",
       "504    January 19, 2016    4.0 and up            299.90  \n",
       "3241    August 11, 2017    4.4 and up        249,900.00  \n",
       "4772       May 25, 2018    5.0 and up      2,499,000.00  "
      ]
     },
     "execution_count": 163,
     "metadata": {},
     "output_type": "execute_result"
    }
   ],
   "source": [
    "df_apps_clean.sort_values(\"Price\",ascending=False).head(10)\n"
   ]
  },
  {
   "cell_type": "markdown",
   "metadata": {
    "id": "VGu85CLb4OOH"
   },
   "source": [
    "### Highest Grossing Paid Apps (ballpark estimate)"
   ]
  },
  {
   "cell_type": "code",
   "execution_count": 164,
   "metadata": {
    "id": "3mDi45iIoVzE"
   },
   "outputs": [
    {
     "data": {
      "text/html": [
       "<div>\n",
       "<style scoped>\n",
       "    .dataframe tbody tr th:only-of-type {\n",
       "        vertical-align: middle;\n",
       "    }\n",
       "\n",
       "    .dataframe tbody tr th {\n",
       "        vertical-align: top;\n",
       "    }\n",
       "\n",
       "    .dataframe thead th {\n",
       "        text-align: right;\n",
       "    }\n",
       "</style>\n",
       "<table border=\"1\" class=\"dataframe\">\n",
       "  <thead>\n",
       "    <tr style=\"text-align: right;\">\n",
       "      <th></th>\n",
       "      <th>App</th>\n",
       "      <th>Category</th>\n",
       "      <th>Rating</th>\n",
       "      <th>Reviews</th>\n",
       "      <th>Size_MBs</th>\n",
       "      <th>Installs</th>\n",
       "      <th>Type</th>\n",
       "      <th>Price</th>\n",
       "      <th>Content_Rating</th>\n",
       "      <th>Genres</th>\n",
       "      <th>Last_Updated</th>\n",
       "      <th>Android_Ver</th>\n",
       "      <th>Revenue_Estimate</th>\n",
       "    </tr>\n",
       "  </thead>\n",
       "  <tbody>\n",
       "    <tr>\n",
       "      <th>9220</th>\n",
       "      <td>Minecraft</td>\n",
       "      <td>FAMILY</td>\n",
       "      <td>4.50</td>\n",
       "      <td>2376564</td>\n",
       "      <td>19.00</td>\n",
       "      <td>10000000</td>\n",
       "      <td>Paid</td>\n",
       "      <td>6.99</td>\n",
       "      <td>Everyone 10+</td>\n",
       "      <td>Arcade;Action &amp; Adventure</td>\n",
       "      <td>July 24, 2018</td>\n",
       "      <td>Varies with device</td>\n",
       "      <td>69,900,000.00</td>\n",
       "    </tr>\n",
       "    <tr>\n",
       "      <th>8825</th>\n",
       "      <td>Hitman Sniper</td>\n",
       "      <td>GAME</td>\n",
       "      <td>4.60</td>\n",
       "      <td>408292</td>\n",
       "      <td>29.00</td>\n",
       "      <td>10000000</td>\n",
       "      <td>Paid</td>\n",
       "      <td>0.99</td>\n",
       "      <td>Mature 17+</td>\n",
       "      <td>Action</td>\n",
       "      <td>July 12, 2018</td>\n",
       "      <td>4.1 and up</td>\n",
       "      <td>9,900,000.00</td>\n",
       "    </tr>\n",
       "    <tr>\n",
       "      <th>7151</th>\n",
       "      <td>Grand Theft Auto: San Andreas</td>\n",
       "      <td>GAME</td>\n",
       "      <td>4.40</td>\n",
       "      <td>348962</td>\n",
       "      <td>26.00</td>\n",
       "      <td>1000000</td>\n",
       "      <td>Paid</td>\n",
       "      <td>6.99</td>\n",
       "      <td>Mature 17+</td>\n",
       "      <td>Action</td>\n",
       "      <td>March 21, 2015</td>\n",
       "      <td>3.0 and up</td>\n",
       "      <td>6,990,000.00</td>\n",
       "    </tr>\n",
       "    <tr>\n",
       "      <th>7477</th>\n",
       "      <td>Facetune - For Free</td>\n",
       "      <td>PHOTOGRAPHY</td>\n",
       "      <td>4.40</td>\n",
       "      <td>49553</td>\n",
       "      <td>48.00</td>\n",
       "      <td>1000000</td>\n",
       "      <td>Paid</td>\n",
       "      <td>5.99</td>\n",
       "      <td>Everyone</td>\n",
       "      <td>Photography</td>\n",
       "      <td>July 25, 2018</td>\n",
       "      <td>4.1 and up</td>\n",
       "      <td>5,990,000.00</td>\n",
       "    </tr>\n",
       "    <tr>\n",
       "      <th>7977</th>\n",
       "      <td>Sleep as Android Unlock</td>\n",
       "      <td>LIFESTYLE</td>\n",
       "      <td>4.50</td>\n",
       "      <td>23966</td>\n",
       "      <td>0.85</td>\n",
       "      <td>1000000</td>\n",
       "      <td>Paid</td>\n",
       "      <td>5.99</td>\n",
       "      <td>Everyone</td>\n",
       "      <td>Lifestyle</td>\n",
       "      <td>June 27, 2018</td>\n",
       "      <td>4.0 and up</td>\n",
       "      <td>5,990,000.00</td>\n",
       "    </tr>\n",
       "    <tr>\n",
       "      <th>6594</th>\n",
       "      <td>DraStic DS Emulator</td>\n",
       "      <td>GAME</td>\n",
       "      <td>4.60</td>\n",
       "      <td>87766</td>\n",
       "      <td>12.00</td>\n",
       "      <td>1000000</td>\n",
       "      <td>Paid</td>\n",
       "      <td>4.99</td>\n",
       "      <td>Everyone</td>\n",
       "      <td>Action</td>\n",
       "      <td>July 19, 2016</td>\n",
       "      <td>2.3 and up</td>\n",
       "      <td>4,990,000.00</td>\n",
       "    </tr>\n",
       "    <tr>\n",
       "      <th>6082</th>\n",
       "      <td>Weather Live</td>\n",
       "      <td>WEATHER</td>\n",
       "      <td>4.50</td>\n",
       "      <td>76593</td>\n",
       "      <td>4.75</td>\n",
       "      <td>500000</td>\n",
       "      <td>Paid</td>\n",
       "      <td>5.99</td>\n",
       "      <td>Everyone</td>\n",
       "      <td>Weather</td>\n",
       "      <td>November 21, 2017</td>\n",
       "      <td>Varies with device</td>\n",
       "      <td>2,995,000.00</td>\n",
       "    </tr>\n",
       "    <tr>\n",
       "      <th>7044</th>\n",
       "      <td>Tasker</td>\n",
       "      <td>TOOLS</td>\n",
       "      <td>4.60</td>\n",
       "      <td>43045</td>\n",
       "      <td>3.40</td>\n",
       "      <td>1000000</td>\n",
       "      <td>Paid</td>\n",
       "      <td>2.99</td>\n",
       "      <td>Everyone</td>\n",
       "      <td>Tools</td>\n",
       "      <td>June 25, 2018</td>\n",
       "      <td>Varies with device</td>\n",
       "      <td>2,990,000.00</td>\n",
       "    </tr>\n",
       "    <tr>\n",
       "      <th>6856</th>\n",
       "      <td>Threema</td>\n",
       "      <td>COMMUNICATION</td>\n",
       "      <td>4.50</td>\n",
       "      <td>51110</td>\n",
       "      <td>3.50</td>\n",
       "      <td>1000000</td>\n",
       "      <td>Paid</td>\n",
       "      <td>2.99</td>\n",
       "      <td>Everyone</td>\n",
       "      <td>Communication</td>\n",
       "      <td>August 3, 2018</td>\n",
       "      <td>Varies with device</td>\n",
       "      <td>2,990,000.00</td>\n",
       "    </tr>\n",
       "    <tr>\n",
       "      <th>6746</th>\n",
       "      <td>Card Wars - Adventure Time</td>\n",
       "      <td>FAMILY</td>\n",
       "      <td>4.30</td>\n",
       "      <td>129603</td>\n",
       "      <td>23.00</td>\n",
       "      <td>1000000</td>\n",
       "      <td>Paid</td>\n",
       "      <td>2.99</td>\n",
       "      <td>Everyone 10+</td>\n",
       "      <td>Card;Action &amp; Adventure</td>\n",
       "      <td>February 11, 2016</td>\n",
       "      <td>2.3.3 and up</td>\n",
       "      <td>2,990,000.00</td>\n",
       "    </tr>\n",
       "  </tbody>\n",
       "</table>\n",
       "</div>"
      ],
      "text/plain": [
       "                                App       Category  Rating  Reviews  Size_MBs  \\\n",
       "9220                      Minecraft         FAMILY    4.50  2376564     19.00   \n",
       "8825                  Hitman Sniper           GAME    4.60   408292     29.00   \n",
       "7151  Grand Theft Auto: San Andreas           GAME    4.40   348962     26.00   \n",
       "7477            Facetune - For Free    PHOTOGRAPHY    4.40    49553     48.00   \n",
       "7977        Sleep as Android Unlock      LIFESTYLE    4.50    23966      0.85   \n",
       "6594            DraStic DS Emulator           GAME    4.60    87766     12.00   \n",
       "6082                   Weather Live        WEATHER    4.50    76593      4.75   \n",
       "7044                         Tasker          TOOLS    4.60    43045      3.40   \n",
       "6856                        Threema  COMMUNICATION    4.50    51110      3.50   \n",
       "6746     Card Wars - Adventure Time         FAMILY    4.30   129603     23.00   \n",
       "\n",
       "      Installs  Type  Price Content_Rating                     Genres  \\\n",
       "9220  10000000  Paid   6.99   Everyone 10+  Arcade;Action & Adventure   \n",
       "8825  10000000  Paid   0.99     Mature 17+                     Action   \n",
       "7151   1000000  Paid   6.99     Mature 17+                     Action   \n",
       "7477   1000000  Paid   5.99       Everyone                Photography   \n",
       "7977   1000000  Paid   5.99       Everyone                  Lifestyle   \n",
       "6594   1000000  Paid   4.99       Everyone                     Action   \n",
       "6082    500000  Paid   5.99       Everyone                    Weather   \n",
       "7044   1000000  Paid   2.99       Everyone                      Tools   \n",
       "6856   1000000  Paid   2.99       Everyone              Communication   \n",
       "6746   1000000  Paid   2.99   Everyone 10+    Card;Action & Adventure   \n",
       "\n",
       "           Last_Updated         Android_Ver  Revenue_Estimate  \n",
       "9220      July 24, 2018  Varies with device     69,900,000.00  \n",
       "8825      July 12, 2018          4.1 and up      9,900,000.00  \n",
       "7151     March 21, 2015          3.0 and up      6,990,000.00  \n",
       "7477      July 25, 2018          4.1 and up      5,990,000.00  \n",
       "7977      June 27, 2018          4.0 and up      5,990,000.00  \n",
       "6594      July 19, 2016          2.3 and up      4,990,000.00  \n",
       "6082  November 21, 2017  Varies with device      2,995,000.00  \n",
       "7044      June 25, 2018  Varies with device      2,990,000.00  \n",
       "6856     August 3, 2018  Varies with device      2,990,000.00  \n",
       "6746  February 11, 2016        2.3.3 and up      2,990,000.00  "
      ]
     },
     "execution_count": 164,
     "metadata": {},
     "output_type": "execute_result"
    }
   ],
   "source": [
    "df_apps_clean.sort_values(\"Revenue_Estimate\",ascending=False).head(10)"
   ]
  },
  {
   "cell_type": "markdown",
   "metadata": {
    "dc": {
     "key": "18"
    },
    "id": "lvpM2MyTdiU6",
    "run_control": {
     "frozen": true
    },
    "tags": [
     "context"
    ]
   },
   "source": [
    "# Plotly Bar Charts & Scatter Plots: Analysing App Categories"
   ]
  },
  {
   "cell_type": "code",
   "execution_count": null,
   "metadata": {
    "id": "3L6hK0aLoYxY"
   },
   "outputs": [],
   "source": []
  },
  {
   "cell_type": "code",
   "execution_count": null,
   "metadata": {
    "id": "mg50Ts9joYz1"
   },
   "outputs": [],
   "source": []
  },
  {
   "cell_type": "code",
   "execution_count": null,
   "metadata": {
    "id": "WZZizlGjoYfn"
   },
   "outputs": [],
   "source": []
  },
  {
   "cell_type": "markdown",
   "metadata": {
    "id": "0tTurR7qdiU9"
   },
   "source": [
    "### Vertical Bar Chart - Highest Competition (Number of Apps)"
   ]
  },
  {
   "cell_type": "code",
   "execution_count": null,
   "metadata": {
    "id": "SFSMH00AoaMB"
   },
   "outputs": [],
   "source": []
  },
  {
   "cell_type": "markdown",
   "metadata": {
    "id": "57mowetLdiU_"
   },
   "source": [
    "### Horizontal Bar Chart - Most Popular Categories (Highest Downloads)"
   ]
  },
  {
   "cell_type": "code",
   "execution_count": null,
   "metadata": {
    "id": "zHO7eTJmocLm"
   },
   "outputs": [],
   "source": []
  },
  {
   "cell_type": "code",
   "execution_count": null,
   "metadata": {
    "id": "h7aUARLtocCy"
   },
   "outputs": [],
   "source": []
  },
  {
   "cell_type": "markdown",
   "metadata": {
    "id": "Uxk24qMk8vrz"
   },
   "source": [
    "### Category Concentration - Downloads vs. Competition\n",
    "\n",
    "**Challenge**: \n",
    "* First, create a DataFrame that has the number of apps in one column and the number of installs in another:\n",
    "\n",
    "<img src=https://imgur.com/uQRSlXi.png width=\"350\">\n",
    "\n",
    "* Then use the [plotly express examples from the documentation](https://plotly.com/python/line-and-scatter/) alongside the [.scatter() API reference](https://plotly.com/python-api-reference/generated/plotly.express.scatter.html)to create scatter plot that looks like this. \n",
    "\n",
    "<img src=https://imgur.com/cHsqh6a.png>\n",
    "\n",
    "*Hint*: Use the size, hover_name and color parameters in .scatter(). To scale the yaxis, call .update_layout() and specify that the yaxis should be on a log-scale like so: yaxis=dict(type='log') "
   ]
  },
  {
   "cell_type": "code",
   "execution_count": null,
   "metadata": {
    "id": "tVvGPDY7oe5A"
   },
   "outputs": [],
   "source": []
  },
  {
   "cell_type": "markdown",
   "metadata": {
    "id": "dmXDF75WdiVC"
   },
   "source": [
    "# Extracting Nested Data from a Column\n",
    "\n",
    "**Challenge**: How many different types of genres are there? Can an app belong to more than one genre? Check what happens when you use .value_counts() on a column with nested values? See if you can work around this problem by using the .split() function and the DataFrame's [.stack() method](https://pandas.pydata.org/pandas-docs/stable/reference/api/pandas.DataFrame.stack.html). \n"
   ]
  },
  {
   "cell_type": "code",
   "execution_count": null,
   "metadata": {
    "id": "3Lo69kS6ogdm"
   },
   "outputs": [],
   "source": []
  },
  {
   "cell_type": "markdown",
   "metadata": {
    "id": "F3zaKvfydiVI"
   },
   "source": [
    "# Colour Scales in Plotly Charts - Competition in Genres"
   ]
  },
  {
   "cell_type": "markdown",
   "metadata": {
    "id": "Ucw6RT59diVK"
   },
   "source": [
    "**Challenge**: Can you create this chart with the Series containing the genre data? \n",
    "\n",
    "<img src=https://imgur.com/DbcoQli.png width=400>\n",
    "\n",
    "Try experimenting with the built in colour scales in Plotly. You can find a full list [here](https://plotly.com/python/builtin-colorscales/). \n",
    "\n",
    "* Find a way to set the colour scale using the color_continuous_scale parameter. \n",
    "* Find a way to make the color axis disappear by using coloraxis_showscale. "
   ]
  },
  {
   "cell_type": "code",
   "execution_count": null,
   "metadata": {
    "id": "c5xbfMgxojoA"
   },
   "outputs": [],
   "source": []
  },
  {
   "cell_type": "markdown",
   "metadata": {
    "id": "BIWG_10PyIzL"
   },
   "source": [
    "# Grouped Bar Charts: Free vs. Paid Apps per Category"
   ]
  },
  {
   "cell_type": "code",
   "execution_count": null,
   "metadata": {
    "id": "ANMs7xywolDH"
   },
   "outputs": [],
   "source": []
  },
  {
   "cell_type": "markdown",
   "metadata": {
    "id": "wmRXm0TW1e_Z"
   },
   "source": [
    "**Challenge**: Use the plotly express bar [chart examples](https://plotly.com/python/bar-charts/#bar-chart-with-sorted-or-ordered-categories) and the [.bar() API reference](https://plotly.com/python-api-reference/generated/plotly.express.bar.html#plotly.express.bar) to create this bar chart: \n",
    "\n",
    "<img src=https://imgur.com/LE0XCxA.png>\n",
    "\n",
    "You'll want to use the `df_free_vs_paid` DataFrame that you created above that has the total number of free and paid apps per category. \n",
    "\n",
    "See if you can figure out how to get the look above by changing the `categoryorder` to 'total descending' as outlined in the documentation here [here](https://plotly.com/python/categorical-axes/#automatically-sorting-categories-by-name-or-total-value). "
   ]
  },
  {
   "cell_type": "code",
   "execution_count": null,
   "metadata": {
    "id": "tqOntrS7onGt"
   },
   "outputs": [],
   "source": []
  },
  {
   "cell_type": "markdown",
   "metadata": {
    "id": "nbYh2tU-VZ-i"
   },
   "source": [
    "# Plotly Box Plots: Lost Downloads for Paid Apps\n",
    "\n",
    "**Challenge**: Create a box plot that shows the number of Installs for free versus paid apps. How does the median number of installations compare? Is the difference large or small?\n",
    "\n",
    "Use the [Box Plots Guide](https://plotly.com/python/box-plots/) and the [.box API reference](https://plotly.com/python-api-reference/generated/plotly.express.box.html) to create the following chart. \n",
    "\n",
    "<img src=https://imgur.com/uVsECT3.png>\n"
   ]
  },
  {
   "cell_type": "code",
   "execution_count": null,
   "metadata": {
    "id": "Jip3hMZ7oqLS"
   },
   "outputs": [],
   "source": []
  },
  {
   "cell_type": "markdown",
   "metadata": {
    "id": "Xi2NaEBPVNrP"
   },
   "source": [
    "# Plotly Box Plots: Revenue by App Category\n",
    "\n",
    "**Challenge**: See if you can generate the chart below: \n",
    "\n",
    "<img src=https://imgur.com/v4CiNqX.png>\n",
    "\n",
    "Looking at the hover text, how much does the median app earn in the Tools category? If developing an Android app costs $30,000 or thereabouts, does the average photography app recoup its development costs?\n",
    "\n",
    "Hint: I've used 'min ascending' to sort the categories. "
   ]
  },
  {
   "cell_type": "code",
   "execution_count": null,
   "metadata": {
    "id": "W1iVoT8Dos7x"
   },
   "outputs": [],
   "source": []
  },
  {
   "cell_type": "markdown",
   "metadata": {
    "id": "uT32ylj4WS9B"
   },
   "source": [
    "# How Much Can You Charge? Examine Paid App Pricing Strategies by Category\n",
    "\n",
    "**Challenge**: What is the median price price for a paid app? Then compare pricing by category by creating another box plot. But this time examine the prices (instead of the revenue estimates) of the paid apps. I recommend using `{categoryorder':'max descending'}` to sort the categories."
   ]
  },
  {
   "cell_type": "code",
   "execution_count": null,
   "metadata": {
    "id": "AdBr0TUhouqs"
   },
   "outputs": [],
   "source": []
  },
  {
   "cell_type": "code",
   "execution_count": null,
   "metadata": {
    "id": "bJnABRw3ovwr"
   },
   "outputs": [],
   "source": []
  },
  {
   "cell_type": "code",
   "execution_count": null,
   "metadata": {
    "id": "zSXVSlVyQ4Kz"
   },
   "outputs": [],
   "source": []
  }
 ],
 "metadata": {
  "colab": {
   "name": "Google Play Store App Analytics (start).ipynb",
   "provenance": [],
   "toc_visible": true
  },
  "kernelspec": {
   "display_name": ".venv",
   "language": "python",
   "name": "python3"
  },
  "language_info": {
   "codemirror_mode": {
    "name": "ipython",
    "version": 3
   },
   "file_extension": ".py",
   "mimetype": "text/x-python",
   "name": "python",
   "nbconvert_exporter": "python",
   "pygments_lexer": "ipython3",
   "version": "3.13.1"
  }
 },
 "nbformat": 4,
 "nbformat_minor": 0
}
